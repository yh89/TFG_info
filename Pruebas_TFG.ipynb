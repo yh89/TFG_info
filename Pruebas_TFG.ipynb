{
 "cells": [
  {
   "cell_type": "markdown",
   "metadata": {},
   "source": [
    "# Pruebas con las bases de datos\n"
   ]
  },
  {
   "cell_type": "markdown",
   "metadata": {},
   "source": [
    "\n",
    "## Preamble "
   ]
  },
  {
   "cell_type": "code",
   "execution_count": 1,
   "metadata": {},
   "outputs": [
    {
     "name": "stdout",
     "output_type": "stream",
     "text": [
      "Loading spark-stubs\n",
      "Getting spark JARs\n"
     ]
    },
    {
     "name": "stderr",
     "output_type": "stream",
     "text": [
      "log4j:WARN No appenders could be found for logger (org.eclipse.jetty.util.log).\n",
      "log4j:WARN Please initialize the log4j system properly.\n",
      "log4j:WARN See http://logging.apache.org/log4j/1.2/faq.html#noconfig for more info.\n"
     ]
    },
    {
     "name": "stdout",
     "output_type": "stream",
     "text": [
      "Creating SparkSession\n"
     ]
    },
    {
     "name": "stderr",
     "output_type": "stream",
     "text": [
      "Using Spark's default log4j profile: org/apache/spark/log4j-defaults.properties\n",
      "20/07/03 10:03:43 INFO SparkContext: Running Spark version 2.4.3\n",
      "20/07/03 10:03:44 WARN NativeCodeLoader: Unable to load native-hadoop library for your platform... using builtin-java classes where applicable\n",
      "20/07/03 10:03:44 INFO SparkContext: Submitted application: 7dbef658-fc68-4c09-8660-9772eb49b3d5\n",
      "20/07/03 10:03:44 INFO SecurityManager: Changing view acls to: jovyan\n",
      "20/07/03 10:03:44 INFO SecurityManager: Changing modify acls to: jovyan\n",
      "20/07/03 10:03:44 INFO SecurityManager: Changing view acls groups to: \n",
      "20/07/03 10:03:44 INFO SecurityManager: Changing modify acls groups to: \n",
      "20/07/03 10:03:44 INFO SecurityManager: SecurityManager: authentication disabled; ui acls disabled; users  with view permissions: Set(jovyan); groups with view permissions: Set(); users  with modify permissions: Set(jovyan); groups with modify permissions: Set()\n",
      "20/07/03 10:03:45 INFO Utils: Successfully started service 'sparkDriver' on port 39919.\n",
      "20/07/03 10:03:45 INFO SparkEnv: Registering MapOutputTracker\n",
      "20/07/03 10:03:45 INFO SparkEnv: Registering BlockManagerMaster\n",
      "20/07/03 10:03:45 INFO BlockManagerMasterEndpoint: Using org.apache.spark.storage.DefaultTopologyMapper for getting topology information\n",
      "20/07/03 10:03:45 INFO BlockManagerMasterEndpoint: BlockManagerMasterEndpoint up\n",
      "20/07/03 10:03:45 INFO DiskBlockManager: Created local directory at /tmp/blockmgr-93ac7960-6322-4a56-90e9-448b54f22631\n",
      "20/07/03 10:03:45 INFO MemoryStore: MemoryStore started with capacity 366.3 MB\n",
      "20/07/03 10:03:45 INFO SparkEnv: Registering OutputCommitCoordinator\n",
      "20/07/03 10:03:45 INFO Utils: Successfully started service 'SparkUI' on port 4040.\n",
      "20/07/03 10:03:45 INFO SparkUI: Bound SparkUI to 0.0.0.0, and started at http://b0149c19624d:4040\n",
      "20/07/03 10:03:45 INFO SparkContext: Added JAR file:/home/jovyan/.cache/coursier/v1/https/jitpack.io/com/github/jupyter/jvm-repr/0.4.0/jvm-repr-0.4.0-sources.jar at spark://b0149c19624d:39919/jars/jvm-repr-0.4.0-sources.jar with timestamp 1593770625848\n",
      "20/07/03 10:03:45 INFO SparkContext: Added JAR file:/home/jovyan/.cache/coursier/v1/https/jitpack.io/com/github/jupyter/jvm-repr/0.4.0/jvm-repr-0.4.0.jar at spark://b0149c19624d:39919/jars/jvm-repr-0.4.0.jar with timestamp 1593770625855\n",
      "20/07/03 10:03:45 INFO SparkContext: Added JAR file:/home/jovyan/.cache/coursier/v1/https/repo1.maven.org/maven2/com/github/scopt/scopt_2.12/3.7.1/scopt_2.12-3.7.1-sources.jar at spark://b0149c19624d:39919/jars/scopt_2.12-3.7.1-sources.jar with timestamp 1593770625862\n",
      "20/07/03 10:03:45 INFO SparkContext: Added JAR file:/home/jovyan/.cache/coursier/v1/https/repo1.maven.org/maven2/com/github/scopt/scopt_2.12/3.7.1/scopt_2.12-3.7.1.jar at spark://b0149c19624d:39919/jars/scopt_2.12-3.7.1.jar with timestamp 1593770625867\n",
      "20/07/03 10:03:45 INFO SparkContext: Added JAR file:/home/jovyan/.cache/coursier/v1/https/repo1.maven.org/maven2/com/lihaoyi/ammonite-interp-api_2.12.10/1.7.4/ammonite-interp-api_2.12.10-1.7.4-sources.jar at spark://b0149c19624d:39919/jars/ammonite-interp-api_2.12.10-1.7.4-sources.jar with timestamp 1593770625873\n",
      "20/07/03 10:03:45 INFO SparkContext: Added JAR file:/home/jovyan/.cache/coursier/v1/https/repo1.maven.org/maven2/com/lihaoyi/ammonite-interp-api_2.12.10/1.7.4/ammonite-interp-api_2.12.10-1.7.4.jar at spark://b0149c19624d:39919/jars/ammonite-interp-api_2.12.10-1.7.4.jar with timestamp 1593770625874\n",
      "20/07/03 10:03:45 INFO SparkContext: Added JAR file:/home/jovyan/.cache/coursier/v1/https/repo1.maven.org/maven2/com/lihaoyi/ammonite-ops_2.12/1.7.4/ammonite-ops_2.12-1.7.4-sources.jar at spark://b0149c19624d:39919/jars/ammonite-ops_2.12-1.7.4-sources.jar with timestamp 1593770625874\n",
      "20/07/03 10:03:45 INFO SparkContext: Added JAR file:/home/jovyan/.cache/coursier/v1/https/repo1.maven.org/maven2/com/lihaoyi/ammonite-ops_2.12/1.7.4/ammonite-ops_2.12-1.7.4.jar at spark://b0149c19624d:39919/jars/ammonite-ops_2.12-1.7.4.jar with timestamp 1593770625875\n",
      "20/07/03 10:03:45 INFO SparkContext: Added JAR file:/home/jovyan/.cache/coursier/v1/https/repo1.maven.org/maven2/com/lihaoyi/ammonite-repl-api_2.12.10/1.7.4/ammonite-repl-api_2.12.10-1.7.4-sources.jar at spark://b0149c19624d:39919/jars/ammonite-repl-api_2.12.10-1.7.4-sources.jar with timestamp 1593770625875\n",
      "20/07/03 10:03:45 INFO SparkContext: Added JAR file:/home/jovyan/.cache/coursier/v1/https/repo1.maven.org/maven2/com/lihaoyi/ammonite-repl-api_2.12.10/1.7.4/ammonite-repl-api_2.12.10-1.7.4.jar at spark://b0149c19624d:39919/jars/ammonite-repl-api_2.12.10-1.7.4.jar with timestamp 1593770625875\n",
      "20/07/03 10:03:45 INFO SparkContext: Added JAR file:/home/jovyan/.cache/coursier/v1/https/repo1.maven.org/maven2/com/lihaoyi/ammonite-util_2.12/1.7.4/ammonite-util_2.12-1.7.4-sources.jar at spark://b0149c19624d:39919/jars/ammonite-util_2.12-1.7.4-sources.jar with timestamp 1593770625876\n",
      "20/07/03 10:03:45 INFO SparkContext: Added JAR file:/home/jovyan/.cache/coursier/v1/https/repo1.maven.org/maven2/com/lihaoyi/ammonite-util_2.12/1.7.4/ammonite-util_2.12-1.7.4.jar at spark://b0149c19624d:39919/jars/ammonite-util_2.12-1.7.4.jar with timestamp 1593770625876\n",
      "20/07/03 10:03:45 INFO SparkContext: Added JAR file:/home/jovyan/.cache/coursier/v1/https/repo1.maven.org/maven2/com/lihaoyi/fansi_2.12/0.2.7/fansi_2.12-0.2.7-sources.jar at spark://b0149c19624d:39919/jars/fansi_2.12-0.2.7-sources.jar with timestamp 1593770625876\n",
      "20/07/03 10:03:45 INFO SparkContext: Added JAR file:/home/jovyan/.cache/coursier/v1/https/repo1.maven.org/maven2/com/lihaoyi/fansi_2.12/0.2.7/fansi_2.12-0.2.7.jar at spark://b0149c19624d:39919/jars/fansi_2.12-0.2.7.jar with timestamp 1593770625876\n",
      "20/07/03 10:03:45 INFO SparkContext: Added JAR file:/home/jovyan/.cache/coursier/v1/https/repo1.maven.org/maven2/com/lihaoyi/geny_2.12/0.1.8/geny_2.12-0.1.8-sources.jar at spark://b0149c19624d:39919/jars/geny_2.12-0.1.8-sources.jar with timestamp 1593770625877\n",
      "20/07/03 10:03:45 INFO SparkContext: Added JAR file:/home/jovyan/.cache/coursier/v1/https/repo1.maven.org/maven2/com/lihaoyi/geny_2.12/0.1.8/geny_2.12-0.1.8.jar at spark://b0149c19624d:39919/jars/geny_2.12-0.1.8.jar with timestamp 1593770625877\n",
      "20/07/03 10:03:45 INFO SparkContext: Added JAR file:/home/jovyan/.cache/coursier/v1/https/repo1.maven.org/maven2/com/lihaoyi/os-lib_2.12/0.3.0/os-lib_2.12-0.3.0-sources.jar at spark://b0149c19624d:39919/jars/os-lib_2.12-0.3.0-sources.jar with timestamp 1593770625877\n",
      "20/07/03 10:03:45 INFO SparkContext: Added JAR file:/home/jovyan/.cache/coursier/v1/https/repo1.maven.org/maven2/com/lihaoyi/os-lib_2.12/0.3.0/os-lib_2.12-0.3.0.jar at spark://b0149c19624d:39919/jars/os-lib_2.12-0.3.0.jar with timestamp 1593770625877\n",
      "20/07/03 10:03:45 INFO SparkContext: Added JAR file:/home/jovyan/.cache/coursier/v1/https/repo1.maven.org/maven2/com/lihaoyi/pprint_2.12/0.5.5/pprint_2.12-0.5.5-sources.jar at spark://b0149c19624d:39919/jars/pprint_2.12-0.5.5-sources.jar with timestamp 1593770625878\n",
      "20/07/03 10:03:45 INFO SparkContext: Added JAR file:/home/jovyan/.cache/coursier/v1/https/repo1.maven.org/maven2/com/lihaoyi/pprint_2.12/0.5.5/pprint_2.12-0.5.5.jar at spark://b0149c19624d:39919/jars/pprint_2.12-0.5.5.jar with timestamp 1593770625878\n",
      "20/07/03 10:03:45 INFO SparkContext: Added JAR file:/home/jovyan/.cache/coursier/v1/https/repo1.maven.org/maven2/com/lihaoyi/sourcecode_2.12/0.1.7/sourcecode_2.12-0.1.7-sources.jar at spark://b0149c19624d:39919/jars/sourcecode_2.12-0.1.7-sources.jar with timestamp 1593770625878\n",
      "20/07/03 10:03:45 INFO SparkContext: Added JAR file:/home/jovyan/.cache/coursier/v1/https/repo1.maven.org/maven2/com/lihaoyi/sourcecode_2.12/0.1.7/sourcecode_2.12-0.1.7.jar at spark://b0149c19624d:39919/jars/sourcecode_2.12-0.1.7.jar with timestamp 1593770625878\n",
      "20/07/03 10:03:45 INFO SparkContext: Added JAR file:/home/jovyan/.cache/coursier/v1/https/repo1.maven.org/maven2/io/get-coursier/interface/0.0.12/interface-0.0.12-sources.jar at spark://b0149c19624d:39919/jars/interface-0.0.12-sources.jar with timestamp 1593770625879\n",
      "20/07/03 10:03:45 INFO SparkContext: Added JAR file:/home/jovyan/.cache/coursier/v1/https/repo1.maven.org/maven2/io/get-coursier/interface/0.0.12/interface-0.0.12.jar at spark://b0149c19624d:39919/jars/interface-0.0.12.jar with timestamp 1593770625879\n"
     ]
    },
    {
     "name": "stderr",
     "output_type": "stream",
     "text": [
      "20/07/03 10:03:45 INFO SparkContext: Added JAR file:/home/jovyan/.cache/coursier/v1/https/repo1.maven.org/maven2/org/scala-lang/modules/scala-collection-compat_2.12/2.0.0/scala-collection-compat_2.12-2.0.0-sources.jar at spark://b0149c19624d:39919/jars/scala-collection-compat_2.12-2.0.0-sources.jar with timestamp 1593770625879\n",
      "20/07/03 10:03:45 INFO SparkContext: Added JAR file:/home/jovyan/.cache/coursier/v1/https/repo1.maven.org/maven2/org/scala-lang/modules/scala-collection-compat_2.12/2.0.0/scala-collection-compat_2.12-2.0.0.jar at spark://b0149c19624d:39919/jars/scala-collection-compat_2.12-2.0.0.jar with timestamp 1593770625889\n",
      "20/07/03 10:03:45 INFO SparkContext: Added JAR file:/home/jovyan/.cache/coursier/v1/https/repo1.maven.org/maven2/org/scala-lang/modules/scala-xml_2.12/1.2.0/scala-xml_2.12-1.2.0-sources.jar at spark://b0149c19624d:39919/jars/scala-xml_2.12-1.2.0-sources.jar with timestamp 1593770625889\n",
      "20/07/03 10:03:45 INFO SparkContext: Added JAR file:/home/jovyan/.cache/coursier/v1/https/repo1.maven.org/maven2/org/scala-lang/modules/scala-xml_2.12/1.2.0/scala-xml_2.12-1.2.0.jar at spark://b0149c19624d:39919/jars/scala-xml_2.12-1.2.0.jar with timestamp 1593770625918\n",
      "20/07/03 10:03:45 INFO SparkContext: Added JAR file:/home/jovyan/.cache/coursier/v1/https/repo1.maven.org/maven2/org/scala-lang/scala-compiler/2.12.10/scala-compiler-2.12.10-sources.jar at spark://b0149c19624d:39919/jars/scala-compiler-2.12.10-sources.jar with timestamp 1593770625918\n",
      "20/07/03 10:03:45 INFO SparkContext: Added JAR file:/home/jovyan/.cache/coursier/v1/https/repo1.maven.org/maven2/org/scala-lang/scala-library/2.12.10/scala-library-2.12.10-sources.jar at spark://b0149c19624d:39919/jars/scala-library-2.12.10-sources.jar with timestamp 1593770625919\n",
      "20/07/03 10:03:45 INFO SparkContext: Added JAR file:/home/jovyan/.cache/coursier/v1/https/repo1.maven.org/maven2/org/scala-lang/scala-reflect/2.12.10/scala-reflect-2.12.10-sources.jar at spark://b0149c19624d:39919/jars/scala-reflect-2.12.10-sources.jar with timestamp 1593770625919\n",
      "20/07/03 10:03:45 INFO SparkContext: Added JAR file:/home/jovyan/.cache/coursier/v1/https/repo1.maven.org/maven2/sh/almond/interpreter-api_2.12/0.9.1/interpreter-api_2.12-0.9.1-sources.jar at spark://b0149c19624d:39919/jars/interpreter-api_2.12-0.9.1-sources.jar with timestamp 1593770625919\n",
      "20/07/03 10:03:45 INFO SparkContext: Added JAR file:/home/jovyan/.cache/coursier/v1/https/repo1.maven.org/maven2/sh/almond/interpreter-api_2.12/0.9.1/interpreter-api_2.12-0.9.1.jar at spark://b0149c19624d:39919/jars/interpreter-api_2.12-0.9.1.jar with timestamp 1593770625920\n",
      "20/07/03 10:03:45 INFO SparkContext: Added JAR file:/home/jovyan/.cache/coursier/v1/https/repo1.maven.org/maven2/sh/almond/jupyter-api_2.12/0.9.1/jupyter-api_2.12-0.9.1-sources.jar at spark://b0149c19624d:39919/jars/jupyter-api_2.12-0.9.1-sources.jar with timestamp 1593770625920\n",
      "20/07/03 10:03:45 INFO SparkContext: Added JAR file:/home/jovyan/.cache/coursier/v1/https/repo1.maven.org/maven2/sh/almond/jupyter-api_2.12/0.9.1/jupyter-api_2.12-0.9.1.jar at spark://b0149c19624d:39919/jars/jupyter-api_2.12-0.9.1.jar with timestamp 1593770625920\n",
      "20/07/03 10:03:45 INFO SparkContext: Added JAR file:/home/jovyan/.cache/coursier/v1/https/repo1.maven.org/maven2/sh/almond/scala-kernel-api_2.12.10/0.9.1/scala-kernel-api_2.12.10-0.9.1-sources.jar at spark://b0149c19624d:39919/jars/scala-kernel-api_2.12.10-0.9.1-sources.jar with timestamp 1593770625920\n",
      "20/07/03 10:03:45 INFO SparkContext: Added JAR file:/home/jovyan/.cache/coursier/v1/https/repo1.maven.org/maven2/sh/almond/scala-kernel-api_2.12.10/0.9.1/scala-kernel-api_2.12.10-0.9.1.jar at spark://b0149c19624d:39919/jars/scala-kernel-api_2.12.10-0.9.1.jar with timestamp 1593770625920\n",
      "20/07/03 10:03:45 INFO SparkContext: Added JAR file:/home/jovyan/.local/share/jupyter/kernels/scala212/launcher.jar at spark://b0149c19624d:39919/jars/launcher.jar with timestamp 1593770625936\n",
      "20/07/03 10:03:45 INFO SparkContext: Added JAR file:/home/jovyan/.cache/coursier/v1/https/repo1.maven.org/maven2/org/scala-lang/scala-reflect/2.12.1/scala-reflect-2.12.1.jar at spark://b0149c19624d:39919/jars/scala-reflect-2.12.1.jar with timestamp 1593770625937\n",
      "20/07/03 10:03:45 INFO SparkContext: Added JAR file:/home/jovyan/.cache/coursier/v1/https/repo1.maven.org/maven2/org/eclipse/jetty/jetty-util/9.4.19.v20190610/jetty-util-9.4.19.v20190610.jar at spark://b0149c19624d:39919/jars/jetty-util-9.4.19.v20190610.jar with timestamp 1593770625937\n",
      "20/07/03 10:03:45 INFO SparkContext: Added JAR file:/home/jovyan/.cache/coursier/v1/https/repo1.maven.org/maven2/sh/almond/almond-spark_2.12/0.6.0/almond-spark_2.12-0.6.0.jar at spark://b0149c19624d:39919/jars/almond-spark_2.12-0.6.0.jar with timestamp 1593770625937\n",
      "20/07/03 10:03:45 INFO SparkContext: Added JAR file:/home/jovyan/.cache/coursier/v1/https/repo1.maven.org/maven2/org/typelevel/macro-compat_2.12/1.1.1/macro-compat_2.12-1.1.1.jar at spark://b0149c19624d:39919/jars/macro-compat_2.12-1.1.1.jar with timestamp 1593770625937\n",
      "20/07/03 10:03:45 INFO SparkContext: Added JAR file:/home/jovyan/.cache/coursier/v1/https/repo1.maven.org/maven2/org/scala-lang/scala-library/2.12.8/scala-library-2.12.8.jar at spark://b0149c19624d:39919/jars/scala-library-2.12.8.jar with timestamp 1593770625938\n",
      "20/07/03 10:03:45 INFO SparkContext: Added JAR file:/home/jovyan/.cache/coursier/v1/https/repo1.maven.org/maven2/sh/almond/ammonite-spark_2.12/0.5.0/ammonite-spark_2.12-0.5.0.jar at spark://b0149c19624d:39919/jars/ammonite-spark_2.12-0.5.0.jar with timestamp 1593770625938\n",
      "20/07/03 10:03:45 INFO SparkContext: Added JAR file:/home/jovyan/.cache/coursier/v1/https/repo1.maven.org/maven2/com/github/alexarchambault/argonaut-shapeless_6.2_2.12/1.2.0-M11/argonaut-shapeless_6.2_2.12-1.2.0-M11.jar at spark://b0149c19624d:39919/jars/argonaut-shapeless_6.2_2.12-1.2.0-M11.jar with timestamp 1593770625938\n",
      "20/07/03 10:03:45 INFO SparkContext: Added JAR file:/home/jovyan/.cache/coursier/v1/https/repo1.maven.org/maven2/org/eclipse/jetty/jetty-server/9.4.19.v20190610/jetty-server-9.4.19.v20190610.jar at spark://b0149c19624d:39919/jars/jetty-server-9.4.19.v20190610.jar with timestamp 1593770625938\n",
      "20/07/03 10:03:45 INFO SparkContext: Added JAR file:/home/jovyan/.cache/coursier/v1/https/repo1.maven.org/maven2/org/scala-lang/scala-reflect/2.12.8/scala-reflect-2.12.8.jar at spark://b0149c19624d:39919/jars/scala-reflect-2.12.8.jar with timestamp 1593770625939\n",
      "20/07/03 10:03:45 INFO SparkContext: Added JAR file:/home/jovyan/.cache/coursier/v1/https/repo1.maven.org/maven2/org/eclipse/jetty/jetty-http/9.4.19.v20190610/jetty-http-9.4.19.v20190610.jar at spark://b0149c19624d:39919/jars/jetty-http-9.4.19.v20190610.jar with timestamp 1593770625952\n",
      "20/07/03 10:03:45 INFO SparkContext: Added JAR file:/home/jovyan/.cache/coursier/v1/https/repo1.maven.org/maven2/io/argonaut/argonaut_2.12/6.2.3/argonaut_2.12-6.2.3.jar at spark://b0149c19624d:39919/jars/argonaut_2.12-6.2.3.jar with timestamp 1593770625953\n",
      "20/07/03 10:03:45 INFO SparkContext: Added JAR file:/home/jovyan/.cache/coursier/v1/https/repo1.maven.org/maven2/org/eclipse/jetty/jetty-io/9.4.19.v20190610/jetty-io-9.4.19.v20190610.jar at spark://b0149c19624d:39919/jars/jetty-io-9.4.19.v20190610.jar with timestamp 1593770625953\n",
      "20/07/03 10:03:45 INFO SparkContext: Added JAR file:/home/jovyan/.cache/coursier/v1/https/repo1.maven.org/maven2/com/chuusai/shapeless_2.12/2.3.3/shapeless_2.12-2.3.3.jar at spark://b0149c19624d:39919/jars/shapeless_2.12-2.3.3.jar with timestamp 1593770625954\n",
      "20/07/03 10:03:46 INFO Executor: Starting executor ID driver on host localhost\n",
      "20/07/03 10:03:46 INFO Executor: Using REPL class URI: http://172.17.0.2:38471\n",
      "20/07/03 10:03:46 INFO Utils: Successfully started service 'org.apache.spark.network.netty.NettyBlockTransferService' on port 36525.\n",
      "20/07/03 10:03:46 INFO NettyBlockTransferService: Server created on b0149c19624d:36525\n",
      "20/07/03 10:03:46 INFO BlockManager: Using org.apache.spark.storage.RandomBlockReplicationPolicy for block replication policy\n",
      "20/07/03 10:03:46 INFO BlockManagerMaster: Registering BlockManager BlockManagerId(driver, b0149c19624d, 36525, None)\n",
      "20/07/03 10:03:46 INFO BlockManagerMasterEndpoint: Registering block manager b0149c19624d:36525 with 366.3 MB RAM, BlockManagerId(driver, b0149c19624d, 36525, None)\n"
     ]
    },
    {
     "name": "stderr",
     "output_type": "stream",
     "text": [
      "20/07/03 10:03:46 INFO BlockManagerMaster: Registered BlockManager BlockManagerId(driver, b0149c19624d, 36525, None)\n",
      "20/07/03 10:03:46 INFO BlockManager: Initialized BlockManager: BlockManagerId(driver, b0149c19624d, 36525, None)\n"
     ]
    },
    {
     "data": {
      "text/html": [
       "<a target=\"_blank\" href=\"http://b0149c19624d:4040\">Spark UI</a>"
      ]
     },
     "metadata": {},
     "output_type": "display_data"
    },
    {
     "data": {
      "text/plain": [
       "\u001b[32mimport \u001b[39m\u001b[36m$file.$           \n",
       "\u001b[39m\n",
       "\u001b[32mimport \u001b[39m\u001b[36msparksession._\n",
       "\u001b[39m\n",
       "\u001b[32mimport \u001b[39m\u001b[36mspark.implicits._\n",
       "\u001b[39m\n",
       "\u001b[32mimport \u001b[39m\u001b[36morg.apache.spark._\n",
       "\u001b[39m\n",
       "\u001b[32mimport \u001b[39m\u001b[36morg.apache.spark.sql.{functions => func, _}\n",
       "\u001b[39m\n",
       "\u001b[32mimport \u001b[39m\u001b[36morg.apache.spark.sql.types._, func._\u001b[39m"
      ]
     },
     "execution_count": 1,
     "metadata": {},
     "output_type": "execute_result"
    }
   ],
   "source": [
    "import $file.sparksession\n",
    "import sparksession._\n",
    "import spark.implicits._\n",
    "import org.apache.spark._\n",
    "import org.apache.spark.sql.{functions => func, _}\n",
    "import org.apache.spark.sql.types._, func._"
   ]
  },
  {
   "cell_type": "code",
   "execution_count": null,
   "metadata": {},
   "outputs": [],
   "source": [
    "//import $ivy.`org.vegas-viz::vegas:0.3.9`"
   ]
  },
  {
   "cell_type": "code",
   "execution_count": null,
   "metadata": {},
   "outputs": [],
   "source": [
    "//val sqlContext = SparkSession.builder().getOrCreate();"
   ]
  },
  {
   "cell_type": "markdown",
   "metadata": {},
   "source": [
    "## DataFrame"
   ]
  },
  {
   "cell_type": "code",
   "execution_count": 2,
   "metadata": {},
   "outputs": [
    {
     "data": {
      "text/plain": [
       "defined \u001b[32mfunction\u001b[39m \u001b[36mreadCsv\u001b[39m"
      ]
     },
     "execution_count": 2,
     "metadata": {},
     "output_type": "execute_result"
    }
   ],
   "source": [
    "def readCsv(input: String ): DataFrame ={\n",
    "    spark.read.format(\"csv\")\n",
    "  .option(\"inferSchema\", \"true\")\n",
    "  .option(\"header\", \"true\")\n",
    "  .load(\"data/\" + input + \".csv\")\n",
    "}"
   ]
  },
  {
   "cell_type": "code",
   "execution_count": 7,
   "metadata": {},
   "outputs": [
    {
     "data": {
      "text/html": [
       "<div>\n",
       "  <span style=\"float: left;\">load at cmd1.sc:5</span>\n",
       "</div>\n"
      ]
     },
     "metadata": {},
     "output_type": "display_data"
    },
    {
     "data": {
      "text/html": [
       "<div class=\"progress\">\n",
       "  <div class=\"progress-bar\" role=\"progressbar\" style=\"background-color: blue; width: 100%; word-wrap: normal; white-space: nowrap; text-align: center; color: white\" aria-valuenow=\"100\" aria-valuemin=\"0\" aria-valuemax=\"100\">\n",
       "    1 / 1\n",
       "  </div>\n",
       "  <div class=\"progress-bar\" role=\"progressbar\" style=\"background-color: red; width: 0%\" aria-valuenow=\"0\" aria-valuemin=\"0\" aria-valuemax=\"100\"></div>\n",
       "</div>\n"
      ]
     },
     "metadata": {},
     "output_type": "display_data"
    },
    {
     "data": {
      "text/html": [
       "<div>\n",
       "  <span style=\"float: left;\">load at cmd1.sc:5</span>\n",
       "</div>\n"
      ]
     },
     "metadata": {},
     "output_type": "display_data"
    },
    {
     "data": {
      "text/html": [
       "<div class=\"progress\">\n",
       "  <div class=\"progress-bar\" role=\"progressbar\" style=\"background-color: blue; width: 100%; word-wrap: normal; white-space: nowrap; text-align: center; color: white\" aria-valuenow=\"100\" aria-valuemin=\"0\" aria-valuemax=\"100\">\n",
       "    2 / 2\n",
       "  </div>\n",
       "  <div class=\"progress-bar\" role=\"progressbar\" style=\"background-color: red; width: 0%\" aria-valuenow=\"0\" aria-valuemin=\"0\" aria-valuemax=\"100\"></div>\n",
       "</div>\n"
      ]
     },
     "metadata": {},
     "output_type": "display_data"
    },
    {
     "data": {
      "text/html": [
       "<div>\n",
       "  <span style=\"float: left;\">load at cmd1.sc:5</span>\n",
       "</div>\n"
      ]
     },
     "metadata": {},
     "output_type": "display_data"
    },
    {
     "data": {
      "text/html": [
       "<div class=\"progress\">\n",
       "  <div class=\"progress-bar\" role=\"progressbar\" style=\"background-color: blue; width: 100%; word-wrap: normal; white-space: nowrap; text-align: center; color: white\" aria-valuenow=\"100\" aria-valuemin=\"0\" aria-valuemax=\"100\">\n",
       "    1 / 1\n",
       "  </div>\n",
       "  <div class=\"progress-bar\" role=\"progressbar\" style=\"background-color: red; width: 0%\" aria-valuenow=\"0\" aria-valuemin=\"0\" aria-valuemax=\"100\"></div>\n",
       "</div>\n"
      ]
     },
     "metadata": {},
     "output_type": "display_data"
    },
    {
     "data": {
      "text/html": [
       "<div>\n",
       "  <span style=\"float: left;\">load at cmd1.sc:5</span>\n",
       "</div>\n"
      ]
     },
     "metadata": {},
     "output_type": "display_data"
    },
    {
     "data": {
      "text/html": [
       "<div class=\"progress\">\n",
       "  <div class=\"progress-bar\" role=\"progressbar\" style=\"background-color: blue; width: 100%; word-wrap: normal; white-space: nowrap; text-align: center; color: white\" aria-valuenow=\"100\" aria-valuemin=\"0\" aria-valuemax=\"100\">\n",
       "    2 / 2\n",
       "  </div>\n",
       "  <div class=\"progress-bar\" role=\"progressbar\" style=\"background-color: red; width: 0%\" aria-valuenow=\"0\" aria-valuemin=\"0\" aria-valuemax=\"100\"></div>\n",
       "</div>\n"
      ]
     },
     "metadata": {},
     "output_type": "display_data"
    },
    {
     "data": {
      "text/html": [
       "<div>\n",
       "  <span style=\"float: left;\">load at cmd1.sc:5</span>\n",
       "</div>\n"
      ]
     },
     "metadata": {},
     "output_type": "display_data"
    },
    {
     "data": {
      "text/html": [
       "<div class=\"progress\">\n",
       "  <div class=\"progress-bar\" role=\"progressbar\" style=\"background-color: blue; width: 100%; word-wrap: normal; white-space: nowrap; text-align: center; color: white\" aria-valuenow=\"100\" aria-valuemin=\"0\" aria-valuemax=\"100\">\n",
       "    1 / 1\n",
       "  </div>\n",
       "  <div class=\"progress-bar\" role=\"progressbar\" style=\"background-color: red; width: 0%\" aria-valuenow=\"0\" aria-valuemin=\"0\" aria-valuemax=\"100\"></div>\n",
       "</div>\n"
      ]
     },
     "metadata": {},
     "output_type": "display_data"
    },
    {
     "data": {
      "text/html": [
       "<div>\n",
       "  <span style=\"float: left;\">load at cmd1.sc:5</span>\n",
       "</div>\n"
      ]
     },
     "metadata": {},
     "output_type": "display_data"
    },
    {
     "data": {
      "text/html": [
       "<div class=\"progress\">\n",
       "  <div class=\"progress-bar\" role=\"progressbar\" style=\"background-color: blue; width: 100%; word-wrap: normal; white-space: nowrap; text-align: center; color: white\" aria-valuenow=\"100\" aria-valuemin=\"0\" aria-valuemax=\"100\">\n",
       "    2 / 2\n",
       "  </div>\n",
       "  <div class=\"progress-bar\" role=\"progressbar\" style=\"background-color: red; width: 0%\" aria-valuenow=\"0\" aria-valuemin=\"0\" aria-valuemax=\"100\"></div>\n",
       "</div>\n"
      ]
     },
     "metadata": {},
     "output_type": "display_data"
    },
    {
     "data": {
      "text/html": [
       "<div>\n",
       "  <span style=\"float: left;\">load at cmd1.sc:5</span>\n",
       "</div>\n"
      ]
     },
     "metadata": {},
     "output_type": "display_data"
    },
    {
     "data": {
      "text/html": [
       "<div class=\"progress\">\n",
       "  <div class=\"progress-bar\" role=\"progressbar\" style=\"background-color: blue; width: 100%; word-wrap: normal; white-space: nowrap; text-align: center; color: white\" aria-valuenow=\"100\" aria-valuemin=\"0\" aria-valuemax=\"100\">\n",
       "    1 / 1\n",
       "  </div>\n",
       "  <div class=\"progress-bar\" role=\"progressbar\" style=\"background-color: red; width: 0%\" aria-valuenow=\"0\" aria-valuemin=\"0\" aria-valuemax=\"100\"></div>\n",
       "</div>\n"
      ]
     },
     "metadata": {},
     "output_type": "display_data"
    },
    {
     "data": {
      "text/html": [
       "<div>\n",
       "  <span style=\"float: left;\">load at cmd1.sc:5</span>\n",
       "</div>\n"
      ]
     },
     "metadata": {},
     "output_type": "display_data"
    },
    {
     "data": {
      "text/html": [
       "<div class=\"progress\">\n",
       "  <div class=\"progress-bar\" role=\"progressbar\" style=\"background-color: blue; width: 100%; word-wrap: normal; white-space: nowrap; text-align: center; color: white\" aria-valuenow=\"100\" aria-valuemin=\"0\" aria-valuemax=\"100\">\n",
       "    2 / 2\n",
       "  </div>\n",
       "  <div class=\"progress-bar\" role=\"progressbar\" style=\"background-color: red; width: 0%\" aria-valuenow=\"0\" aria-valuemin=\"0\" aria-valuemax=\"100\"></div>\n",
       "</div>\n"
      ]
     },
     "metadata": {},
     "output_type": "display_data"
    },
    {
     "data": {
      "text/plain": [
       "\u001b[36mtemperatureByCountry\u001b[39m: \u001b[32mDataFrame\u001b[39m = [dt: timestamp, AverageTemperature: double ... 2 more fields]\n",
       "\u001b[36mdisasterNumber\u001b[39m: \u001b[32mDataFrame\u001b[39m = [Entity: string, Year: int ... 1 more field]\n",
       "\u001b[36mdisasterEconomic\u001b[39m: \u001b[32mDataFrame\u001b[39m = [Entity: string, Year: int ... 1 more field]\n",
       "\u001b[36mdeathByCountry\u001b[39m: \u001b[32mDataFrame\u001b[39m = [Entity: string, Code: string ... 2 more fields]"
      ]
     },
     "execution_count": 7,
     "metadata": {},
     "output_type": "execute_result"
    }
   ],
   "source": [
    "val temperatureByCountry : DataFrame = readCsv(\"GlobalLandTemperaturesByCountry\")\n",
    "val disasterNumber = readCsv(\"number-of-natural-disaster-events\").drop($\"Code\")\n",
    "val disasterEconomic: DataFrame = readCsv(\"economic-damage-from-natural-disasters\").drop($\"Code\")\n",
    "val deathByCountry= readCsv(\"deaths-natural-disasters-ihme\").withColumn(\"Deaths\", $\"Deaths\".cast(\"Long\"))"
   ]
  },
  {
   "cell_type": "code",
   "execution_count": 8,
   "metadata": {},
   "outputs": [
    {
     "data": {
      "text/html": [
       "<div>\n",
       "  <span style=\"float: left;\">load at cmd1.sc:5</span>\n",
       "</div>\n"
      ]
     },
     "metadata": {},
     "output_type": "display_data"
    },
    {
     "data": {
      "text/html": [
       "<div class=\"progress\">\n",
       "  <div class=\"progress-bar\" role=\"progressbar\" style=\"background-color: blue; width: 100%; word-wrap: normal; white-space: nowrap; text-align: center; color: white\" aria-valuenow=\"100\" aria-valuemin=\"0\" aria-valuemax=\"100\">\n",
       "    1 / 1\n",
       "  </div>\n",
       "  <div class=\"progress-bar\" role=\"progressbar\" style=\"background-color: red; width: 0%\" aria-valuenow=\"0\" aria-valuemin=\"0\" aria-valuemax=\"100\"></div>\n",
       "</div>\n"
      ]
     },
     "metadata": {},
     "output_type": "display_data"
    },
    {
     "data": {
      "text/html": [
       "<div>\n",
       "  <span style=\"float: left;\">load at cmd1.sc:5</span>\n",
       "</div>\n"
      ]
     },
     "metadata": {},
     "output_type": "display_data"
    },
    {
     "data": {
      "text/html": [
       "<div class=\"progress\">\n",
       "  <div class=\"progress-bar\" role=\"progressbar\" style=\"background-color: blue; width: 100%; word-wrap: normal; white-space: nowrap; text-align: center; color: white\" aria-valuenow=\"100\" aria-valuemin=\"0\" aria-valuemax=\"100\">\n",
       "    2 / 2\n",
       "  </div>\n",
       "  <div class=\"progress-bar\" role=\"progressbar\" style=\"background-color: red; width: 0%\" aria-valuenow=\"0\" aria-valuemin=\"0\" aria-valuemax=\"100\"></div>\n",
       "</div>\n"
      ]
     },
     "metadata": {},
     "output_type": "display_data"
    },
    {
     "data": {
      "text/html": [
       "<div>\n",
       "  <span style=\"float: left;\">load at cmd1.sc:5</span>\n",
       "</div>\n"
      ]
     },
     "metadata": {},
     "output_type": "display_data"
    },
    {
     "data": {
      "text/html": [
       "<div class=\"progress\">\n",
       "  <div class=\"progress-bar\" role=\"progressbar\" style=\"background-color: blue; width: 100%; word-wrap: normal; white-space: nowrap; text-align: center; color: white\" aria-valuenow=\"100\" aria-valuemin=\"0\" aria-valuemax=\"100\">\n",
       "    1 / 1\n",
       "  </div>\n",
       "  <div class=\"progress-bar\" role=\"progressbar\" style=\"background-color: red; width: 0%\" aria-valuenow=\"0\" aria-valuemin=\"0\" aria-valuemax=\"100\"></div>\n",
       "</div>\n"
      ]
     },
     "metadata": {},
     "output_type": "display_data"
    },
    {
     "data": {
      "text/html": [
       "<div>\n",
       "  <span style=\"float: left;\">load at cmd1.sc:5</span>\n",
       "</div>\n"
      ]
     },
     "metadata": {},
     "output_type": "display_data"
    },
    {
     "data": {
      "text/html": [
       "<div class=\"progress\">\n",
       "  <div class=\"progress-bar\" role=\"progressbar\" style=\"background-color: blue; width: 100%; word-wrap: normal; white-space: nowrap; text-align: center; color: white\" aria-valuenow=\"100\" aria-valuemin=\"0\" aria-valuemax=\"100\">\n",
       "    2 / 2\n",
       "  </div>\n",
       "  <div class=\"progress-bar\" role=\"progressbar\" style=\"background-color: red; width: 0%\" aria-valuenow=\"0\" aria-valuemin=\"0\" aria-valuemax=\"100\"></div>\n",
       "</div>\n"
      ]
     },
     "metadata": {},
     "output_type": "display_data"
    },
    {
     "data": {
      "text/plain": [
       "\u001b[36mdisasterDeath\u001b[39m: \u001b[32mDataFrame\u001b[39m = [Entity: string, Year: int ... 1 more field]\n",
       "\u001b[36mdeathPercentByCountry\u001b[39m: \u001b[32mDataFrame\u001b[39m = [Entity: string, Code: string ... 2 more fields]"
      ]
     },
     "execution_count": 8,
     "metadata": {},
     "output_type": "execute_result"
    }
   ],
   "source": [
    "val disasterDeath : DataFrame = readCsv(\"number-of-deaths-from-natural-disasters\").drop($\"Code\")\n",
    "val deathPercentByCountry: DataFrame = readCsv(\"share-deaths-from-natural-disasters\")\n",
    "                                .withColumn(\"Deaths(Percent) (%)\",format_number($\"Deaths(Percent) (%)\", 2).cast(\"Double\"))\n"
   ]
  },
  {
   "cell_type": "code",
   "execution_count": 9,
   "metadata": {},
   "outputs": [
    {
     "data": {
      "text/html": [
       "<div>\n",
       "  <span style=\"float: left;\">load at cmd1.sc:5</span>\n",
       "</div>\n"
      ]
     },
     "metadata": {},
     "output_type": "display_data"
    },
    {
     "data": {
      "text/html": [
       "<div class=\"progress\">\n",
       "  <div class=\"progress-bar\" role=\"progressbar\" style=\"background-color: blue; width: 100%; word-wrap: normal; white-space: nowrap; text-align: center; color: white\" aria-valuenow=\"100\" aria-valuemin=\"0\" aria-valuemax=\"100\">\n",
       "    1 / 1\n",
       "  </div>\n",
       "  <div class=\"progress-bar\" role=\"progressbar\" style=\"background-color: red; width: 0%\" aria-valuenow=\"0\" aria-valuemin=\"0\" aria-valuemax=\"100\"></div>\n",
       "</div>\n"
      ]
     },
     "metadata": {},
     "output_type": "display_data"
    },
    {
     "data": {
      "text/html": [
       "<div>\n",
       "  <span style=\"float: left;\">load at cmd1.sc:5</span>\n",
       "</div>\n"
      ]
     },
     "metadata": {},
     "output_type": "display_data"
    },
    {
     "data": {
      "text/html": [
       "<div class=\"progress\">\n",
       "  <div class=\"progress-bar\" role=\"progressbar\" style=\"background-color: blue; width: 100%; word-wrap: normal; white-space: nowrap; text-align: center; color: white\" aria-valuenow=\"100\" aria-valuemin=\"0\" aria-valuemax=\"100\">\n",
       "    2 / 2\n",
       "  </div>\n",
       "  <div class=\"progress-bar\" role=\"progressbar\" style=\"background-color: red; width: 0%\" aria-valuenow=\"0\" aria-valuemin=\"0\" aria-valuemax=\"100\"></div>\n",
       "</div>\n"
      ]
     },
     "metadata": {},
     "output_type": "display_data"
    },
    {
     "data": {
      "text/html": [
       "<div>\n",
       "  <span style=\"float: left;\">load at cmd1.sc:5</span>\n",
       "</div>\n"
      ]
     },
     "metadata": {},
     "output_type": "display_data"
    },
    {
     "data": {
      "text/html": [
       "<div class=\"progress\">\n",
       "  <div class=\"progress-bar\" role=\"progressbar\" style=\"background-color: blue; width: 100%; word-wrap: normal; white-space: nowrap; text-align: center; color: white\" aria-valuenow=\"100\" aria-valuemin=\"0\" aria-valuemax=\"100\">\n",
       "    1 / 1\n",
       "  </div>\n",
       "  <div class=\"progress-bar\" role=\"progressbar\" style=\"background-color: red; width: 0%\" aria-valuenow=\"0\" aria-valuemin=\"0\" aria-valuemax=\"100\"></div>\n",
       "</div>\n"
      ]
     },
     "metadata": {},
     "output_type": "display_data"
    },
    {
     "data": {
      "text/html": [
       "<div>\n",
       "  <span style=\"float: left;\">load at cmd1.sc:5</span>\n",
       "</div>\n"
      ]
     },
     "metadata": {},
     "output_type": "display_data"
    },
    {
     "data": {
      "text/html": [
       "<div class=\"progress\">\n",
       "  <div class=\"progress-bar\" role=\"progressbar\" style=\"background-color: blue; width: 100%; word-wrap: normal; white-space: nowrap; text-align: center; color: white\" aria-valuenow=\"100\" aria-valuemin=\"0\" aria-valuemax=\"100\">\n",
       "    2 / 2\n",
       "  </div>\n",
       "  <div class=\"progress-bar\" role=\"progressbar\" style=\"background-color: red; width: 0%\" aria-valuenow=\"0\" aria-valuemin=\"0\" aria-valuemax=\"100\"></div>\n",
       "</div>\n"
      ]
     },
     "metadata": {},
     "output_type": "display_data"
    },
    {
     "data": {
      "text/plain": [
       "\u001b[36mearthquakes\u001b[39m: \u001b[32mDataFrame\u001b[39m = [Entity: string, Year: int ... 1 more field]\n",
       "\u001b[36mvolcano\u001b[39m: \u001b[32mDataFrame\u001b[39m = [Entity: string, Year: int ... 1 more field]"
      ]
     },
     "execution_count": 9,
     "metadata": {},
     "output_type": "execute_result"
    }
   ],
   "source": [
    "val earthquakes : DataFrame = readCsv(\"significant-earthquakes\").drop($\"Code\")\n",
    "val volcano : DataFrame = readCsv(\"significant-volcanic-eruptions\").drop($\"Code\")"
   ]
  },
  {
   "cell_type": "markdown",
   "metadata": {},
   "source": [
    "## Algunas queries "
   ]
  },
  {
   "cell_type": "code",
   "execution_count": 12,
   "metadata": {},
   "outputs": [
    {
     "data": {
      "text/html": [
       "<div>\n",
       "  <span style=\"float: left;\">show at cmd11.sc:1</span>\n",
       "</div>\n"
      ]
     },
     "metadata": {},
     "output_type": "display_data"
    },
    {
     "data": {
      "text/html": [
       "<div class=\"progress\">\n",
       "  <div class=\"progress-bar\" role=\"progressbar\" style=\"background-color: blue; width: 100%; word-wrap: normal; white-space: nowrap; text-align: center; color: white\" aria-valuenow=\"100\" aria-valuemin=\"0\" aria-valuemax=\"100\">\n",
       "    1 / 1\n",
       "  </div>\n",
       "  <div class=\"progress-bar\" role=\"progressbar\" style=\"background-color: red; width: 0%\" aria-valuenow=\"0\" aria-valuemin=\"0\" aria-valuemax=\"100\"></div>\n",
       "</div>\n"
      ]
     },
     "metadata": {},
     "output_type": "display_data"
    },
    {
     "name": "stdout",
     "output_type": "stream",
     "text": [
      "+--------------------+----+------+\n",
      "|              Entity|Year|Number|\n",
      "+--------------------+----+------+\n",
      "|All natural disas...|1900|     5|\n",
      "|All natural disas...|1901|     2|\n",
      "|All natural disas...|1902|     9|\n",
      "|All natural disas...|1903|     8|\n",
      "|All natural disas...|1904|     2|\n",
      "|All natural disas...|1905|     4|\n",
      "|All natural disas...|1906|    17|\n",
      "|All natural disas...|1907|     5|\n",
      "|All natural disas...|1908|     4|\n",
      "|All natural disas...|1909|    11|\n",
      "|All natural disas...|1910|    15|\n",
      "|All natural disas...|1911|     5|\n",
      "|All natural disas...|1912|     7|\n",
      "|All natural disas...|1913|     5|\n",
      "|All natural disas...|1914|     6|\n",
      "|All natural disas...|1915|     7|\n",
      "|All natural disas...|1916|     2|\n",
      "|All natural disas...|1917|     6|\n",
      "|All natural disas...|1918|     7|\n",
      "|All natural disas...|1919|     4|\n",
      "+--------------------+----+------+\n",
      "only showing top 20 rows\n",
      "\n"
     ]
    }
   ],
   "source": [
    "disasterNumber.select($\"Entity\", $\"Year\", $\"Number\").show"
   ]
  },
  {
   "cell_type": "code",
   "execution_count": null,
   "metadata": {},
   "outputs": [],
   "source": [
    "disasterNumber.filter($\"Entity\" =!=\"All natural disasters\")\n",
    "         .groupBy($\"Year\")\n",
    "         .sum(\"Number\")\n",
    "         .orderBy($\"Year\")\n",
    "         .show\n",
    "\n",
    "disasterNumber.filter($\"Entity\" ===\"All natural disasters\")\n",
    "         .show\n",
    "\n",
    "\n",
    "disasterNumber.filter($\"Entity\" =!=\"All natural disasters\")\n",
    "         .groupBy($\"Year\", $\"Entity\")\n",
    "         .sum(\"Number\")\n",
    "         .orderBy($\"Year\".desc)\n",
    "         .show"
   ]
  },
  {
   "cell_type": "code",
   "execution_count": null,
   "metadata": {},
   "outputs": [],
   "source": [
    "temperatureByCountry.filter($\"AverageTemperature\" > -1000000)\n",
    "            .groupBy($\"dt\")\n",
    "            .avg(\"AverageTemperature\")\n",
    "            .orderBy($\"dt\")\n",
    "            .limit(20)\n",
    "            .show"
   ]
  },
  {
   "cell_type": "code",
   "execution_count": 11,
   "metadata": {},
   "outputs": [
    {
     "data": {
      "text/plain": [
       "\u001b[36mres10_0\u001b[39m: \u001b[32mDataset\u001b[39m[\u001b[32mRow\u001b[39m] = [Entity: string, Year: int ... 1 more field]\n",
       "\u001b[36mtemperatureByCountryYear\u001b[39m: \u001b[32mDataFrame\u001b[39m = [dt: int, AverageTemperature: double ... 2 more fields]\n",
       "\u001b[36mtemperatureAVGTotal\u001b[39m: \u001b[32mDataset\u001b[39m[\u001b[32mRow\u001b[39m] = [dt: int, avg(AverageTemperature): double]\n",
       "\u001b[36mres10_3\u001b[39m: \u001b[32mDataset\u001b[39m[\u001b[32mDouble\u001b[39m] = [value: double]"
      ]
     },
     "execution_count": 11,
     "metadata": {},
     "output_type": "execute_result"
    }
   ],
   "source": [
    "//para seccion 3.2\n",
    "disasterNumber.filter($\"Entity\" ===\"All natural disasters\")\n",
    "val temperatureByCountryYear = temperatureByCountry\n",
    "                                .withColumn(\"dt\", date_format(col(\"dt\"), \"yyyy\")\n",
    "                                .cast(\"Int\"))\n",
    "val temperatureAVGTotal = temperatureByCountryYear\n",
    "                    .groupBy($\"dt\")\n",
    "                    .avg(\"AverageTemperature\")\n",
    "                    .orderBy($\"dt\")\n",
    "temperatureAVGTotal.map(_.getAs[Double](1))"
   ]
  },
  {
   "cell_type": "code",
   "execution_count": 16,
   "metadata": {
    "scrolled": true
   },
   "outputs": [
    {
     "data": {
      "text/plain": [
       "\u001b[36mres15\u001b[39m: \u001b[32mDataset\u001b[39m[\u001b[32mInt\u001b[39m] = [value: int]"
      ]
     },
     "execution_count": 16,
     "metadata": {},
     "output_type": "execute_result"
    }
   ],
   "source": [
    "disasterNumber\n",
    "    .filter($\"Entity\" ===\"All natural disasters\")\n",
    "    .orderBy($\"Year\")\n",
    "    .select($\"Year\",$\"Number\")\n",
    "    .map(_.getInt(0))"
   ]
  },
  {
   "cell_type": "markdown",
   "metadata": {},
   "source": [
    "## Queries con explicaciones"
   ]
  },
  {
   "cell_type": "code",
   "execution_count": null,
   "metadata": {},
   "outputs": [],
   "source": [
    "//Relacionar numero de desastres con sus daños economicos\n",
    "\n",
    "val disasterNumberDamage =disasterNumber.join(disasterEconomic, Seq(\"Entity\",\"Year\"))\n",
    "disasterNumberDamage.filter($\"Entity\" =!=\"All natural disasters\").limit(10).show"
   ]
  },
  {
   "cell_type": "code",
   "execution_count": null,
   "metadata": {},
   "outputs": [],
   "source": [
    "//Creo que no funciona porque en ambos casos, en el campo Code es null\n",
    "\n",
    "disasterNumber.join(disasterEconomic, Seq(\"Entity\",\"Code\",\"Year\")).limit(10).show"
   ]
  },
  {
   "cell_type": "code",
   "execution_count": null,
   "metadata": {},
   "outputs": [],
   "source": [
    "// Modificar la columna dt de tipo timestamp (yyyy-MM-dd hh-mm-ss) a solo de años \n",
    "\n",
    "val temperatureByCountryYear:DataFrame = temperatureByCountry.withColumn(\"dt\", date_format(col(\"dt\"), \"yyyy\"))"
   ]
  },
  {
   "cell_type": "code",
   "execution_count": null,
   "metadata": {},
   "outputs": [],
   "source": [
    "// tabla con temperetura media del año por pais \n",
    "//ordenado primero por el año y luego por pais\n",
    "val temperatureAVG = temperatureByCountryYear\n",
    "                    .groupBy($\"dt\",$\"Country\")\n",
    "                    .avg(\"AverageTemperature\")\n",
    "                    .orderBy($\"dt\", $\"Country\")\n",
    "temperatureAVG.limit(10).show"
   ]
  },
  {
   "cell_type": "code",
   "execution_count": 14,
   "metadata": {},
   "outputs": [
    {
     "data": {
      "text/plain": [
       "\u001b[36mdisasterNumberDeath\u001b[39m: \u001b[32mDataFrame\u001b[39m = [Entity: string, Year: int ... 2 more fields]"
      ]
     },
     "execution_count": 14,
     "metadata": {},
     "output_type": "execute_result"
    }
   ],
   "source": [
    "//Relacionar el numero total de muertos con numero de desastres\n",
    "\n",
    "val disasterNumberDeath =disasterNumber.join(disasterDeath, Seq(\"Entity\",\"Year\"))\n",
    "disasterNumberDeath.limit(10).show\n"
   ]
  },
  {
   "cell_type": "code",
   "execution_count": null,
   "metadata": {},
   "outputs": [],
   "source": [
    "//Relacionar numero de muertos por pais con su porcentage\n",
    "\n",
    "val deathNumberPercent =deathByCountry.join(deathPercentByCountry, Seq(\"Entity\",\"Year\"))\n",
    "deathNumberPercent.filter($\"Year\">2000).filter($\"Entity\" === \"Haiti\").limit(10).show"
   ]
  },
  {
   "cell_type": "markdown",
   "metadata": {},
   "source": [
    "## Solución con Plotly"
   ]
  },
  {
   "cell_type": "code",
   "execution_count": 3,
   "metadata": {},
   "outputs": [
    {
     "data": {
      "text/plain": [
       "\u001b[32mimport \u001b[39m\u001b[36m$ivy.$                                      \n",
       "\n",
       "\u001b[39m\n",
       "\u001b[32mimport \u001b[39m\u001b[36mplotly._\n",
       "\u001b[39m\n",
       "\u001b[32mimport \u001b[39m\u001b[36mplotly.element._\n",
       "\u001b[39m\n",
       "\u001b[32mimport \u001b[39m\u001b[36mplotly.layout._\n",
       "\u001b[39m\n",
       "\u001b[32mimport \u001b[39m\u001b[36mplotly.Almond._\n",
       "\u001b[39m"
      ]
     },
     "execution_count": 3,
     "metadata": {},
     "output_type": "execute_result"
    }
   ],
   "source": [
    "import $ivy.`org.plotly-scala::plotly-almond:0.7.2`\n",
    "\n",
    "import plotly._\n",
    "import plotly.element._\n",
    "import plotly.layout._\n",
    "import plotly.Almond._\n"
   ]
  },
  {
   "cell_type": "code",
   "execution_count": null,
   "metadata": {},
   "outputs": [],
   "source": [
    "\n",
    "//purebas\n",
    "\n",
    "// val consulta= disasterNumber.filter($\"Entity\" =!=\"All natural disasters\")\n",
    "//          .groupBy($\"Year\",$\"Entity\")\n",
    "//          .sum(\"Number\")\n",
    "//          .orderBy($\"Year\")\n",
    "// val x=consulta.select($\"Year\").collectAsList.toArray.mkString(\"!!!\").replace(\"[\",\"\").replace(\"]\",\"\").split(\"!!!\").toSeq\n",
    "// val y = consulta.select($\"sum(Number)\").collectAsList.toArray.mkString(\"!!!\").replace(\"[\",\"\").replace(\"]\",\"\").split(\"!!!\").toSeq\n",
    "// Bar(x,y).plot()\n",
    "\n",
    "// val trace1 = Scatter(x,y)\n",
    "\n",
    "\n",
    "// trace1.plot()"
   ]
  },
  {
   "cell_type": "code",
   "execution_count": 4,
   "metadata": {},
   "outputs": [
    {
     "data": {
      "text/html": [
       "<script>\n",
       "var comm = Jupyter.notebook.kernel.comm_manager.new_comm('cancel-stage-8cb0d8e4-fea4-4274-be53-b04f8a2d02fb', {});\n",
       "\n",
       "function cancelStage(stageId) {\n",
       "  console.log('Cancelling stage ' + stageId);\n",
       "  comm.send({ 'stageId': stageId });\n",
       "}\n",
       "</script>\n",
       "          "
      ]
     },
     "metadata": {},
     "output_type": "display_data"
    },
    {
     "data": {
      "text/html": [
       "<div>\n",
       "  <span style=\"float: left;\">load at cmd1.sc:5</span>\n",
       "</div>\n"
      ]
     },
     "metadata": {},
     "output_type": "display_data"
    },
    {
     "data": {
      "text/html": [
       "<div class=\"progress\">\n",
       "  <div class=\"progress-bar\" role=\"progressbar\" style=\"background-color: blue; width: 100%; word-wrap: normal; white-space: nowrap; text-align: center; color: white\" aria-valuenow=\"100\" aria-valuemin=\"0\" aria-valuemax=\"100\">\n",
       "    1 / 1\n",
       "  </div>\n",
       "  <div class=\"progress-bar\" role=\"progressbar\" style=\"background-color: red; width: 0%\" aria-valuenow=\"0\" aria-valuemin=\"0\" aria-valuemax=\"100\"></div>\n",
       "</div>\n"
      ]
     },
     "metadata": {},
     "output_type": "display_data"
    },
    {
     "data": {
      "text/html": [
       "<div>\n",
       "  <span style=\"float: left;\">load at cmd1.sc:5</span>\n",
       "</div>\n"
      ]
     },
     "metadata": {},
     "output_type": "display_data"
    },
    {
     "data": {
      "text/html": [
       "<div class=\"progress\">\n",
       "  <div class=\"progress-bar\" role=\"progressbar\" style=\"background-color: blue; width: 100%; word-wrap: normal; white-space: nowrap; text-align: center; color: white\" aria-valuenow=\"100\" aria-valuemin=\"0\" aria-valuemax=\"100\">\n",
       "    2 / 2\n",
       "  </div>\n",
       "  <div class=\"progress-bar\" role=\"progressbar\" style=\"background-color: red; width: 0%\" aria-valuenow=\"0\" aria-valuemin=\"0\" aria-valuemax=\"100\"></div>\n",
       "</div>\n"
      ]
     },
     "metadata": {},
     "output_type": "display_data"
    },
    {
     "data": {
      "text/plain": [
       "\u001b[36mdisasterNumber\u001b[39m: \u001b[32mDataFrame\u001b[39m = [Entity: string, Year: int ... 1 more field]"
      ]
     },
     "execution_count": 4,
     "metadata": {},
     "output_type": "execute_result"
    }
   ],
   "source": [
    "val disasterNumber = readCsv(\"number-of-natural-disaster-events\").drop($\"Code\")"
   ]
  },
  {
   "cell_type": "code",
   "execution_count": 5,
   "metadata": {},
   "outputs": [
    {
     "data": {
      "text/html": [
       "<div>\n",
       "  <span style=\"float: left;\">collect at cmd4.sc:2</span>\n",
       "</div>\n"
      ]
     },
     "metadata": {},
     "output_type": "display_data"
    },
    {
     "data": {
      "text/html": [
       "<div class=\"progress\">\n",
       "  <div class=\"progress-bar\" role=\"progressbar\" style=\"background-color: blue; width: 100%; word-wrap: normal; white-space: nowrap; text-align: center; color: white\" aria-valuenow=\"100\" aria-valuemin=\"0\" aria-valuemax=\"100\">\n",
       "    1 / 1\n",
       "  </div>\n",
       "  <div class=\"progress-bar\" role=\"progressbar\" style=\"background-color: red; width: 0%\" aria-valuenow=\"0\" aria-valuemin=\"0\" aria-valuemax=\"100\"></div>\n",
       "</div>\n"
      ]
     },
     "metadata": {},
     "output_type": "display_data"
    },
    {
     "data": {
      "text/html": [
       "<div>\n",
       "  <span style=\"float: left;\">collect at cmd4.sc:2</span>\n",
       "</div>\n"
      ]
     },
     "metadata": {},
     "output_type": "display_data"
    },
    {
     "data": {
      "text/html": [
       "<div class=\"progress\">\n",
       "  <div class=\"progress-bar\" role=\"progressbar\" style=\"background-color: blue; width: 100%; word-wrap: normal; white-space: nowrap; text-align: center; color: white\" aria-valuenow=\"100\" aria-valuemin=\"0\" aria-valuemax=\"100\">\n",
       "    1 / 1\n",
       "  </div>\n",
       "  <div class=\"progress-bar\" role=\"progressbar\" style=\"background-color: red; width: 0%\" aria-valuenow=\"0\" aria-valuemin=\"0\" aria-valuemax=\"100\"></div>\n",
       "</div>\n"
      ]
     },
     "metadata": {},
     "output_type": "display_data"
    },
    {
     "data": {
      "text/html": [
       "<div>\n",
       "  <span style=\"float: left;\">collect at cmd4.sc:2</span>\n",
       "</div>\n"
      ]
     },
     "metadata": {},
     "output_type": "display_data"
    },
    {
     "data": {
      "text/html": [
       "<div class=\"progress\">\n",
       "  <div class=\"progress-bar\" role=\"progressbar\" style=\"background-color: blue; width: 100%; word-wrap: normal; white-space: nowrap; text-align: center; color: white\" aria-valuenow=\"100\" aria-valuemin=\"0\" aria-valuemax=\"100\">\n",
       "    64 / 64\n",
       "  </div>\n",
       "  <div class=\"progress-bar\" role=\"progressbar\" style=\"background-color: red; width: 0%\" aria-valuenow=\"0\" aria-valuemin=\"0\" aria-valuemax=\"100\"></div>\n",
       "</div>\n"
      ]
     },
     "metadata": {},
     "output_type": "display_data"
    },
    {
     "data": {
      "text/html": [
       "<div>\n",
       "  <span style=\"float: left;\">collect at cmd4.sc:2</span>\n",
       "</div>\n"
      ]
     },
     "metadata": {},
     "output_type": "display_data"
    },
    {
     "data": {
      "text/html": [
       "<div class=\"progress\">\n",
       "  <div class=\"progress-bar\" role=\"progressbar\" style=\"background-color: blue; width: 100%; word-wrap: normal; white-space: nowrap; text-align: center; color: white\" aria-valuenow=\"100\" aria-valuemin=\"0\" aria-valuemax=\"100\">\n",
       "    1 / 1\n",
       "  </div>\n",
       "  <div class=\"progress-bar\" role=\"progressbar\" style=\"background-color: red; width: 0%\" aria-valuenow=\"0\" aria-valuemin=\"0\" aria-valuemax=\"100\"></div>\n",
       "</div>\n"
      ]
     },
     "metadata": {},
     "output_type": "display_data"
    },
    {
     "data": {
      "text/html": [
       "<div>\n",
       "  <span style=\"float: left;\">collect at cmd4.sc:2</span>\n",
       "</div>\n"
      ]
     },
     "metadata": {},
     "output_type": "display_data"
    },
    {
     "data": {
      "text/html": [
       "<div class=\"progress\">\n",
       "  <div class=\"progress-bar\" role=\"progressbar\" style=\"background-color: blue; width: 100%; word-wrap: normal; white-space: nowrap; text-align: center; color: white\" aria-valuenow=\"100\" aria-valuemin=\"0\" aria-valuemax=\"100\">\n",
       "    1 / 1\n",
       "  </div>\n",
       "  <div class=\"progress-bar\" role=\"progressbar\" style=\"background-color: red; width: 0%\" aria-valuenow=\"0\" aria-valuemin=\"0\" aria-valuemax=\"100\"></div>\n",
       "</div>\n"
      ]
     },
     "metadata": {},
     "output_type": "display_data"
    },
    {
     "data": {
      "text/html": [
       "<div>\n",
       "  <span style=\"float: left;\">collect at cmd4.sc:2</span>\n",
       "</div>\n"
      ]
     },
     "metadata": {},
     "output_type": "display_data"
    },
    {
     "data": {
      "text/html": [
       "<div class=\"progress\">\n",
       "  <div class=\"progress-bar\" role=\"progressbar\" style=\"background-color: blue; width: 100%; word-wrap: normal; white-space: nowrap; text-align: center; color: white\" aria-valuenow=\"100\" aria-valuemin=\"0\" aria-valuemax=\"100\">\n",
       "    64 / 64\n",
       "  </div>\n",
       "  <div class=\"progress-bar\" role=\"progressbar\" style=\"background-color: red; width: 0%\" aria-valuenow=\"0\" aria-valuemin=\"0\" aria-valuemax=\"100\"></div>\n",
       "</div>\n"
      ]
     },
     "metadata": {},
     "output_type": "display_data"
    },
    {
     "data": {
      "text/html": [
       "\n",
       "      <script type=\"text/javascript\">\n",
       "        require.config({\n",
       "  paths: {\n",
       "    d3: 'https://cdnjs.cloudflare.com/ajax/libs/d3/3.5.17/d3.min',\n",
       "    plotly: 'https://cdn.plot.ly/plotly-1.41.3.min',\n",
       "    jquery: 'https://code.jquery.com/jquery-3.3.1.min'\n",
       "  },\n",
       "\n",
       "  shim: {\n",
       "    plotly: {\n",
       "      deps: ['d3', 'jquery'],\n",
       "      exports: 'plotly'\n",
       "    }\n",
       "  }\n",
       "});\n",
       "        \n",
       "\n",
       "        require(['plotly'], function(Plotly) {\n",
       "          window.Plotly = Plotly;\n",
       "        });\n",
       "      </script>\n",
       "    "
      ]
     },
     "metadata": {},
     "output_type": "display_data"
    },
    {
     "data": {
      "application/vnd.plotly.v1+json": {
       "data": [
        {
         "type": "bar",
         "x": [
          1900,
          1901,
          1902,
          1903,
          1904,
          1905,
          1906,
          1907,
          1908,
          1909,
          1910,
          1911,
          1912,
          1913,
          1914,
          1915,
          1916,
          1917,
          1918,
          1919,
          1920,
          1921,
          1922,
          1923,
          1924,
          1925,
          1926,
          1927,
          1928,
          1929,
          1930,
          1931,
          1932,
          1933,
          1934,
          1935,
          1936,
          1937,
          1938,
          1939,
          1940,
          1941,
          1942,
          1943,
          1944,
          1945,
          1946,
          1947,
          1948,
          1949,
          1950,
          1951,
          1952,
          1953,
          1954,
          1955,
          1956,
          1957,
          1958,
          1959,
          1960,
          1961,
          1962,
          1963,
          1964,
          1965,
          1966,
          1967,
          1968,
          1969,
          1970,
          1971,
          1972,
          1973,
          1974,
          1975,
          1976,
          1977,
          1978,
          1979,
          1980,
          1981,
          1982,
          1983,
          1984,
          1985,
          1986,
          1987,
          1988,
          1989,
          1990,
          1991,
          1992,
          1993,
          1994,
          1995,
          1996,
          1997,
          1998,
          1999,
          2000,
          2001,
          2002,
          2003,
          2004,
          2005,
          2006,
          2007,
          2008,
          2009,
          2010,
          2011,
          2012,
          2013,
          2014,
          2015,
          2016,
          2017,
          2018
         ],
         "y": [
          5,
          2,
          9,
          8,
          2,
          4,
          17,
          5,
          4,
          11,
          15,
          5,
          7,
          5,
          6,
          7,
          2,
          6,
          7,
          4,
          7,
          2,
          6,
          12,
          4,
          6,
          15,
          12,
          17,
          6,
          14,
          12,
          8,
          10,
          9,
          11,
          11,
          7,
          7,
          11,
          17,
          5,
          9,
          12,
          12,
          12,
          15,
          12,
          23,
          20,
          23,
          27,
          24,
          34,
          33,
          30,
          36,
          29,
          23,
          33,
          40,
          28,
          28,
          41,
          60,
          61,
          80,
          70,
          77,
          62,
          77,
          61,
          63,
          60,
          68,
          63,
          91,
          121,
          115,
          120,
          133,
          138,
          153,
          205,
          146,
          165,
          150,
          191,
          200,
          172,
          278,
          228,
          204,
          260,
          246,
          248,
          227,
          261,
          288,
          337,
          411,
          376,
          421,
          360,
          350,
          432,
          401,
          414,
          352,
          344,
          393,
          334,
          346,
          332,
          320,
          380,
          325,
          276,
          282
         ]
        }
       ],
       "layout": {}
      },
      "text/html": [
       "<div class=\"chart\" id=\"plot-7226470b-a4ab-443c-92ff-83c20b38fe1f\"></div>\n",
       "<script>require(['plotly'], function(Plotly) {\n",
       "  (function () {\n",
       "  var data0 = {\"x\":[1900.0,1901.0,1902.0,1903.0,1904.0,1905.0,1906.0,1907.0,1908.0,1909.0,1910.0,1911.0,1912.0,1913.0,1914.0,1915.0,1916.0,1917.0,1918.0,1919.0,1920.0,1921.0,1922.0,1923.0,1924.0,1925.0,1926.0,1927.0,1928.0,1929.0,1930.0,1931.0,1932.0,1933.0,1934.0,1935.0,1936.0,1937.0,1938.0,1939.0,1940.0,1941.0,1942.0,1943.0,1944.0,1945.0,1946.0,1947.0,1948.0,1949.0,1950.0,1951.0,1952.0,1953.0,1954.0,1955.0,1956.0,1957.0,1958.0,1959.0,1960.0,1961.0,1962.0,1963.0,1964.0,1965.0,1966.0,1967.0,1968.0,1969.0,1970.0,1971.0,1972.0,1973.0,1974.0,1975.0,1976.0,1977.0,1978.0,1979.0,1980.0,1981.0,1982.0,1983.0,1984.0,1985.0,1986.0,1987.0,1988.0,1989.0,1990.0,1991.0,1992.0,1993.0,1994.0,1995.0,1996.0,1997.0,1998.0,1999.0,2000.0,2001.0,2002.0,2003.0,2004.0,2005.0,2006.0,2007.0,2008.0,2009.0,2010.0,2011.0,2012.0,2013.0,2014.0,2015.0,2016.0,2017.0,2018.0],\"y\":[5.0,2.0,9.0,8.0,2.0,4.0,17.0,5.0,4.0,11.0,15.0,5.0,7.0,5.0,6.0,7.0,2.0,6.0,7.0,4.0,7.0,2.0,6.0,12.0,4.0,6.0,15.0,12.0,17.0,6.0,14.0,12.0,8.0,10.0,9.0,11.0,11.0,7.0,7.0,11.0,17.0,5.0,9.0,12.0,12.0,12.0,15.0,12.0,23.0,20.0,23.0,27.0,24.0,34.0,33.0,30.0,36.0,29.0,23.0,33.0,40.0,28.0,28.0,41.0,60.0,61.0,80.0,70.0,77.0,62.0,77.0,61.0,63.0,60.0,68.0,63.0,91.0,121.0,115.0,120.0,133.0,138.0,153.0,205.0,146.0,165.0,150.0,191.0,200.0,172.0,278.0,228.0,204.0,260.0,246.0,248.0,227.0,261.0,288.0,337.0,411.0,376.0,421.0,360.0,350.0,432.0,401.0,414.0,352.0,344.0,393.0,334.0,346.0,332.0,320.0,380.0,325.0,276.0,282.0],\"type\":\"bar\"};\n",
       "\n",
       "  var data = [data0];\n",
       "  var layout = {};\n",
       "\n",
       "  Plotly.plot('plot-7226470b-a4ab-443c-92ff-83c20b38fe1f', data, layout);\n",
       "})();\n",
       "});\n",
       "      </script>\n",
       "           "
      ]
     },
     "metadata": {},
     "output_type": "display_data"
    },
    {
     "data": {
      "text/plain": [
       "\u001b[36maux\u001b[39m: \u001b[32mDataFrame\u001b[39m = [Year: int, Number: int]\n",
       "\u001b[36mres4_1\u001b[39m: \u001b[32mString\u001b[39m = \u001b[32m\"plot-7226470b-a4ab-443c-92ff-83c20b38fe1f\"\u001b[39m"
      ]
     },
     "execution_count": 5,
     "metadata": {},
     "output_type": "execute_result"
    }
   ],
   "source": [
    "// 1.¿Cómo evoluciona el número de desastres naturales según avanza los años?\n",
    "val aux = disasterNumber.filter($\"Entity\" ===\"All natural disasters\").orderBy($\"Year\").select($\"Year\",$\"Number\")\n",
    "Bar(aux.map(_.getInt(0)).collect.toSeq,\n",
    "    aux.map(_.getInt(1)).collect.toSeq).plot()"
   ]
  },
  {
   "cell_type": "code",
   "execution_count": 6,
   "metadata": {},
   "outputs": [
    {
     "data": {
      "text/html": [
       "<div>\n",
       "  <span style=\"float: left;\">collect at cmd5.sc:1</span>\n",
       "</div>\n"
      ]
     },
     "metadata": {},
     "output_type": "display_data"
    },
    {
     "data": {
      "text/html": [
       "<div class=\"progress\">\n",
       "  <div class=\"progress-bar\" role=\"progressbar\" style=\"background-color: blue; width: 100%; word-wrap: normal; white-space: nowrap; text-align: center; color: white\" aria-valuenow=\"100\" aria-valuemin=\"0\" aria-valuemax=\"100\">\n",
       "    1 / 1\n",
       "  </div>\n",
       "  <div class=\"progress-bar\" role=\"progressbar\" style=\"background-color: red; width: 0%\" aria-valuenow=\"0\" aria-valuemin=\"0\" aria-valuemax=\"100\"></div>\n",
       "</div>\n"
      ]
     },
     "metadata": {},
     "output_type": "display_data"
    },
    {
     "data": {
      "text/html": [
       "<div>\n",
       "  <span style=\"float: left;\">collect at cmd5.sc:1</span>\n",
       "</div>\n"
      ]
     },
     "metadata": {},
     "output_type": "display_data"
    },
    {
     "data": {
      "text/html": [
       "<div class=\"progress\">\n",
       "  <div class=\"progress-bar\" role=\"progressbar\" style=\"background-color: blue; width: 100%; word-wrap: normal; white-space: nowrap; text-align: center; color: white\" aria-valuenow=\"100\" aria-valuemin=\"0\" aria-valuemax=\"100\">\n",
       "    1 / 1\n",
       "  </div>\n",
       "  <div class=\"progress-bar\" role=\"progressbar\" style=\"background-color: red; width: 0%\" aria-valuenow=\"0\" aria-valuemin=\"0\" aria-valuemax=\"100\"></div>\n",
       "</div>\n"
      ]
     },
     "metadata": {},
     "output_type": "display_data"
    },
    {
     "data": {
      "text/html": [
       "<div>\n",
       "  <span style=\"float: left;\">collect at cmd5.sc:1</span>\n",
       "</div>\n"
      ]
     },
     "metadata": {},
     "output_type": "display_data"
    },
    {
     "data": {
      "text/html": [
       "<div class=\"progress\">\n",
       "  <div class=\"progress-bar\" role=\"progressbar\" style=\"background-color: blue; width: 100%; word-wrap: normal; white-space: nowrap; text-align: center; color: white\" aria-valuenow=\"100\" aria-valuemin=\"0\" aria-valuemax=\"100\">\n",
       "    64 / 64\n",
       "  </div>\n",
       "  <div class=\"progress-bar\" role=\"progressbar\" style=\"background-color: red; width: 0%\" aria-valuenow=\"0\" aria-valuemin=\"0\" aria-valuemax=\"100\"></div>\n",
       "</div>\n"
      ]
     },
     "metadata": {},
     "output_type": "display_data"
    },
    {
     "data": {
      "application/vnd.plotly.v1+json": {
       "data": [
        {
         "type": "bar",
         "x": [
          1900,
          1901,
          1902,
          1903,
          1904,
          1905,
          1906,
          1907,
          1908,
          1909,
          1910,
          1911,
          1912,
          1913,
          1914,
          1915,
          1916,
          1917,
          1918,
          1919,
          1920,
          1921,
          1922,
          1923,
          1924,
          1925,
          1926,
          1927,
          1928,
          1929,
          1930,
          1931,
          1932,
          1933,
          1934,
          1935,
          1936,
          1937,
          1938,
          1939,
          1940,
          1941,
          1942,
          1943,
          1944,
          1945,
          1946,
          1947,
          1948,
          1949,
          1950,
          1951,
          1952,
          1953,
          1954,
          1955,
          1956,
          1957,
          1958,
          1959,
          1960,
          1961,
          1962,
          1963,
          1964,
          1965,
          1966,
          1967,
          1968,
          1969,
          1970,
          1971,
          1972,
          1973,
          1974,
          1975,
          1976,
          1977,
          1978,
          1979,
          1980,
          1981,
          1982,
          1983,
          1984,
          1985,
          1986,
          1987,
          1988,
          1989,
          1990,
          1991,
          1992,
          1993,
          1994,
          1995,
          1996,
          1997,
          1998,
          1999,
          2000,
          2001,
          2002,
          2003,
          2004,
          2005,
          2006,
          2007,
          2008,
          2009,
          2010,
          2011,
          2012,
          2013,
          2014,
          2015,
          2016,
          2017,
          2018
         ],
         "y": [
          5,
          2,
          9,
          8,
          2,
          4,
          17,
          5,
          4,
          11,
          15,
          5,
          7,
          5,
          6,
          7,
          2,
          6,
          7,
          4,
          7,
          2,
          6,
          12,
          4,
          6,
          15,
          12,
          17,
          6,
          14,
          12,
          8,
          10,
          9,
          11,
          11,
          7,
          7,
          11,
          17,
          5,
          9,
          12,
          12,
          12,
          15,
          12,
          23,
          20,
          23,
          27,
          24,
          34,
          33,
          30,
          36,
          29,
          23,
          33,
          40,
          28,
          28,
          41,
          60,
          61,
          80,
          70,
          77,
          62,
          77,
          61,
          63,
          60,
          68,
          63,
          91,
          121,
          115,
          120,
          133,
          138,
          153,
          205,
          146,
          165,
          150,
          191,
          200,
          172,
          278,
          228,
          204,
          260,
          246,
          248,
          227,
          261,
          288,
          337,
          411,
          376,
          421,
          360,
          350,
          432,
          401,
          414,
          352,
          344,
          393,
          334,
          346,
          332,
          320,
          380,
          325,
          276,
          282
         ]
        }
       ],
       "layout": {}
      },
      "text/html": [
       "<div class=\"chart\" id=\"plot-86349315-24c7-4eac-99df-00edeed415f9\"></div>\n",
       "<script>require(['plotly'], function(Plotly) {\n",
       "  (function () {\n",
       "  var data0 = {\"x\":[1900.0,1901.0,1902.0,1903.0,1904.0,1905.0,1906.0,1907.0,1908.0,1909.0,1910.0,1911.0,1912.0,1913.0,1914.0,1915.0,1916.0,1917.0,1918.0,1919.0,1920.0,1921.0,1922.0,1923.0,1924.0,1925.0,1926.0,1927.0,1928.0,1929.0,1930.0,1931.0,1932.0,1933.0,1934.0,1935.0,1936.0,1937.0,1938.0,1939.0,1940.0,1941.0,1942.0,1943.0,1944.0,1945.0,1946.0,1947.0,1948.0,1949.0,1950.0,1951.0,1952.0,1953.0,1954.0,1955.0,1956.0,1957.0,1958.0,1959.0,1960.0,1961.0,1962.0,1963.0,1964.0,1965.0,1966.0,1967.0,1968.0,1969.0,1970.0,1971.0,1972.0,1973.0,1974.0,1975.0,1976.0,1977.0,1978.0,1979.0,1980.0,1981.0,1982.0,1983.0,1984.0,1985.0,1986.0,1987.0,1988.0,1989.0,1990.0,1991.0,1992.0,1993.0,1994.0,1995.0,1996.0,1997.0,1998.0,1999.0,2000.0,2001.0,2002.0,2003.0,2004.0,2005.0,2006.0,2007.0,2008.0,2009.0,2010.0,2011.0,2012.0,2013.0,2014.0,2015.0,2016.0,2017.0,2018.0],\"y\":[5.0,2.0,9.0,8.0,2.0,4.0,17.0,5.0,4.0,11.0,15.0,5.0,7.0,5.0,6.0,7.0,2.0,6.0,7.0,4.0,7.0,2.0,6.0,12.0,4.0,6.0,15.0,12.0,17.0,6.0,14.0,12.0,8.0,10.0,9.0,11.0,11.0,7.0,7.0,11.0,17.0,5.0,9.0,12.0,12.0,12.0,15.0,12.0,23.0,20.0,23.0,27.0,24.0,34.0,33.0,30.0,36.0,29.0,23.0,33.0,40.0,28.0,28.0,41.0,60.0,61.0,80.0,70.0,77.0,62.0,77.0,61.0,63.0,60.0,68.0,63.0,91.0,121.0,115.0,120.0,133.0,138.0,153.0,205.0,146.0,165.0,150.0,191.0,200.0,172.0,278.0,228.0,204.0,260.0,246.0,248.0,227.0,261.0,288.0,337.0,411.0,376.0,421.0,360.0,350.0,432.0,401.0,414.0,352.0,344.0,393.0,334.0,346.0,332.0,320.0,380.0,325.0,276.0,282.0],\"type\":\"bar\"};\n",
       "\n",
       "  var data = [data0];\n",
       "  var layout = {};\n",
       "\n",
       "  Plotly.plot('plot-86349315-24c7-4eac-99df-00edeed415f9', data, layout);\n",
       "})();\n",
       "});\n",
       "      </script>\n",
       "           "
      ]
     },
     "metadata": {},
     "output_type": "display_data"
    },
    {
     "data": {
      "text/plain": [
       "\u001b[36maux1\u001b[39m: \u001b[32mArray\u001b[39m[\u001b[32mRow\u001b[39m] = \u001b[33mArray\u001b[39m(\n",
       "  [1900,5],\n",
       "  [1901,2],\n",
       "  [1902,9],\n",
       "  [1903,8],\n",
       "  [1904,2],\n",
       "  [1905,4],\n",
       "  [1906,17],\n",
       "  [1907,5],\n",
       "  [1908,4],\n",
       "  [1909,11],\n",
       "  [1910,15],\n",
       "  [1911,5],\n",
       "  [1912,7],\n",
       "  [1913,5],\n",
       "  [1914,6],\n",
       "  [1915,7],\n",
       "  [1916,2],\n",
       "  [1917,6],\n",
       "  [1918,7],\n",
       "  [1919,4],\n",
       "  [1920,7],\n",
       "  [1921,2],\n",
       "  [1922,6],\n",
       "  [1923,12],\n",
       "  [1924,4],\n",
       "  [1925,6],\n",
       "  [1926,15],\n",
       "  [1927,12],\n",
       "  [1928,17],\n",
       "  [1929,6],\n",
       "  [1930,14],\n",
       "  [1931,12],\n",
       "  [1932,8],\n",
       "  [1933,10],\n",
       "  [1934,9],\n",
       "  [1935,11],\n",
       "  [1936,11],\n",
       "  [1937,7],\n",
       "...\n",
       "\u001b[36mres5_1\u001b[39m: \u001b[32mString\u001b[39m = \u001b[32m\"plot-86349315-24c7-4eac-99df-00edeed415f9\"\u001b[39m"
      ]
     },
     "execution_count": 6,
     "metadata": {},
     "output_type": "execute_result"
    }
   ],
   "source": [
    "//Para seccion 3.3\n",
    "val aux1 = aux.collect\n",
    "Bar(aux1.map(_.getInt(0)).toSeq,\n",
    "    aux1.map(_.getInt(1)).toSeq).plot()"
   ]
  },
  {
   "cell_type": "code",
   "execution_count": null,
   "metadata": {},
   "outputs": [],
   "source": []
  },
  {
   "cell_type": "code",
   "execution_count": null,
   "metadata": {},
   "outputs": [],
   "source": [
    "// 2.¿Cómo evoluciona el daño económico causado por los desastres naturales?\n",
    "val aux = disasterEconomic.filter($\"Entity\" ===\"All natural disasters\").orderBy($\"Year\").select($\"Year\",$\"Money\")\n",
    "Bar(aux.map(_.getInt(0)).collect.toSeq,aux.map(_.getLong(1)).collect.toSeq).plot()"
   ]
  },
  {
   "cell_type": "code",
   "execution_count": null,
   "metadata": {},
   "outputs": [],
   "source": [
    "//3.¿Existe alguna relación entre el número de desastres naturales con el daño económico?\n",
    "\n",
    "val diasasterNumberEconomic=disasterNumber.join(disasterEconomic, Seq(\"Entity\",\"Year\"))\n",
    "val trace1= Scatter(\n",
    "        diasasterNumberEconomic.map(_.getAs[Int](\"Number\")).collect.toSeq, \n",
    "        diasasterNumberEconomic.map(_.getAs[Long](\"Money\")).collect.toSeq,\n",
    "        mode = ScatterMode(ScatterMode.Markers)\n",
    "        )\n",
    "        .plot()"
   ]
  },
  {
   "cell_type": "code",
   "execution_count": null,
   "metadata": {},
   "outputs": [],
   "source": [
    "// Modificar la columna dt de tipo timestamp (yyyy-MM-dd hh-mm-ss) a solo de años \n",
    "\n",
    "val temperatureByCountryYear:DataFrame = temperatureByCountry.withColumn(\"dt\", date_format(col(\"dt\"), \"yyyy\").cast(\"Int\"))"
   ]
  },
  {
   "cell_type": "code",
   "execution_count": null,
   "metadata": {},
   "outputs": [],
   "source": [
    "// 4.¿Cómo evoluciona la temperatura media anual global?\n",
    "val temperatureAVGTotal = temperatureByCountryYear\n",
    "                    .groupBy($\"dt\")\n",
    "                    .avg(\"AverageTemperature\")\n",
    "                    .orderBy($\"dt\")\n",
    "Scatter(\n",
    "    temperatureAVGTotal.map(_.getInt(0)).collect.toSeq,\n",
    "    temperatureAVGTotal.map(_.getAs[Double](1)).collect.toSeq\n",
    ").plot()"
   ]
  },
  {
   "cell_type": "code",
   "execution_count": null,
   "metadata": {},
   "outputs": [],
   "source": [
    "// 5.¿Cómo evoluciona la temperatura media anual de cada país?\n",
    "val temperatureAVG = temperatureByCountryYear\n",
    "                    .groupBy($\"dt\",$\"Country\")\n",
    "                    .avg(\"AverageTemperature\")\n",
    "                    .orderBy($\"dt\", $\"Country\")\n",
    "                    \n"
   ]
  },
  {
   "cell_type": "code",
   "execution_count": null,
   "metadata": {},
   "outputs": [],
   "source": [
    "//Cojo dos paises como ejemplo\n",
    "val albania =temperatureAVG.filter($\"Country\"===\"Albania\")\n",
    "val trace1 = Bar(\n",
    "  albania.map(_.getAs[Int](\"dt\")).collect.toSeq,\n",
    "  albania.map(_.getAs[Double](\"avg(AverageTemperature)\")).collect.toSeq,\n",
    "  name = \"Albania\"\n",
    ")\n",
    "\n",
    "val andorra =temperatureAVG.filter($\"Country\"===\"Andorra\")\n",
    "val trace2 = Bar(\n",
    "  andorra.map(_.getAs[Int](\"dt\")).collect.toSeq,\n",
    "  andorra.map(_.getAs[Double](\"avg(AverageTemperature)\")).collect.toSeq,\n",
    "  name = \"Andorra\"\n",
    ")\n",
    "\n",
    "\n",
    "val data = Seq(trace1, trace2)\n",
    "\n",
    "data.plot()\n",
    "\n",
    "// val layout = Layout( \n",
    "//   barmode = BarMode.Group\n",
    "// )\n",
    "\n",
    "// Plotly.plot(\"div-id\", data, layout)"
   ]
  },
  {
   "cell_type": "code",
   "execution_count": null,
   "metadata": {},
   "outputs": [],
   "source": [
    "//6.¿Existe alguna relación entre la temperatura media anual global \n",
    "//con el número de desastres naturales?\n",
    "val aux1 = disasterNumber.filter($\"Entity\" ===\"All natural disasters\")\n",
    "\n",
    "val aux = aux1.join(temperatureAVGTotal, aux1(\"Year\")===temperatureAVG(\"dt\"))\n",
    "\n",
    "Scatter(\n",
    "    aux.map(_.getAs[Double](4)).collect.toSeq,\n",
    "    aux.map(_.getAs[Int](2)).collect.toSeq,\n",
    "    mode = ScatterMode(ScatterMode.Markers)\n",
    ").plot()"
   ]
  },
  {
   "cell_type": "code",
   "execution_count": null,
   "metadata": {},
   "outputs": [],
   "source": [
    "//7.¿Cómo evoluciona el número de muertes anual \n",
    "//causados por los desastres naturales?\n",
    "val aux = deathByCountry\n",
    "       .groupBy($\"Year\")\n",
    "       .sum(\"Deaths\")\n",
    "       .orderBy($\"Year\")\n",
    "Bar(\n",
    "    aux.map(_.getAs[String](0)).collect.toSeq,\n",
    "    aux.map(_.getAs[Long](1)).collect.toSeq\n",
    ").plot()"
   ]
  },
  {
   "cell_type": "code",
   "execution_count": null,
   "metadata": {},
   "outputs": [],
   "source": [
    "//8.¿Cómo evoluciona la media del porcentaje de muertes?\n",
    "val aux = deathPercentByCountry\n",
    "       .groupBy($\"Year\")\n",
    "       .avg(\"Deaths(Percent) (%)\")\n",
    "       .orderBy($\"Year\")\n",
    "Bar(\n",
    "    aux.map(_.getAs[String](0)).collect.toSeq,\n",
    "    aux.map(_.getAs[Double](1)).collect.toSeq\n",
    ").plot()"
   ]
  },
  {
   "cell_type": "code",
   "execution_count": null,
   "metadata": {},
   "outputs": [],
   "source": [
    "//9.¿Cuál es el país con más muertes por los desastres naturales?\n",
    "\n",
    "  deathByCountry\n",
    "  .groupBy($\"Entity\")\n",
    "  .sum(\"Deaths\")\n",
    "  .orderBy($\"sum(Deaths)\".desc)\n",
    "  .show"
   ]
  },
  {
   "cell_type": "code",
   "execution_count": null,
   "metadata": {},
   "outputs": [],
   "source": [
    "//10.¿Existe alguna relación entre el número de desastres naturales con el número \n",
    "//total de muertos anuales causados por los desastres naturales?\n",
    "\n",
    "val disasterNumberDeath =disasterNumber.join(disasterDeath, Seq(\"Entity\",\"Year\")).filter($\"Entity\"===\"All natural disasters\")\n",
    "\n",
    "\n",
    "Scatter(\n",
    "        disasterNumberDeath.map(_.getAs[Int](\"Number\")).collect.toSeq, \n",
    "        disasterNumberDeath.map(_.getAs[Int](\"Deaths\")).collect.toSeq,\n",
    "        mode = ScatterMode(ScatterMode.Markers)\n",
    "        )\n",
    "        .plot()"
   ]
  },
  {
   "cell_type": "code",
   "execution_count": null,
   "metadata": {},
   "outputs": [],
   "source": [
    "// 11.¿Cómo evolucionan cada tipo de desastres naturales según avanza el tiempo?\n",
    "\n",
    " val aux = disasterNumber.filter($\"Entity\" =!=\"All natural disasters\")\n",
    "         .groupBy($\"Year\", $\"Entity\")\n",
    "         .sum(\"Number\")\n",
    "         .orderBy($\"Year\")\n",
    "\n",
    "//        val data= aux.groupByKey(_.getAs[String](\"Entity\"))\n",
    "//          .mapGroups((key,value) => Scatter(value.map(_.getAs[Int](\"Year\")).toSeq,\n",
    "//                                           value.map(_.getAs[Int](\"Number\")).toSeq,\n",
    "//                                           name = key))\n",
    "\n",
    "val trace1 = Scatter(\n",
    "  aux.filter($\"Entity\" === \"Flood\").map(_.getInt(0)).collect.toSeq,\n",
    "  aux.filter($\"Entity\" === \"Flood\").map(_.getLong(2)).collect.toSeq,\n",
    "  name=\"Flood\"\n",
    ")\n",
    "\n",
    "\n",
    "val trace2 = Scatter(\n",
    "  aux.filter($\"Entity\" === \"Extreme weather\").map(_.getInt(0)).collect.toSeq,\n",
    "  aux.filter($\"Entity\" === \"Extreme weather\").map(_.getLong(2)).collect.toSeq,\n",
    "  name=\"Extreme weather\"\n",
    ")\n",
    "\n",
    "val data = Seq(trace1, trace2)\n",
    "\n",
    "data.plot()\n",
    "\n"
   ]
  },
  {
   "cell_type": "code",
   "execution_count": null,
   "metadata": {},
   "outputs": [],
   "source": [
    "//12.¿Qué tipo de desastres naturales provoca mayores muertos?\n",
    "disasterNumber.join(disasterDeath, Seq(\"Entity\",\"Year\"))\n",
    "       .groupBy($\"Entity\")\n",
    "       .sum(\"Deaths\")\n",
    "       .filter($\"Entity\" =!= \"All natural disasters\")\n",
    "       .orderBy($\"sum(Deaths)\".desc).show"
   ]
  },
  {
   "cell_type": "code",
   "execution_count": null,
   "metadata": {},
   "outputs": [],
   "source": [
    "//13.¿Qué tipo de desastres naturales provoca mayores daños económicos?\n",
    "disasterEconomic\n",
    "       .groupBy($\"Entity\")\n",
    "       .sum(\"Money\")\n",
    "       .filter($\"Entity\" =!= \"All natural disasters\")\n",
    "       .orderBy($\"sum(Money)\".desc)\n",
    "       .show"
   ]
  },
  {
   "cell_type": "code",
   "execution_count": null,
   "metadata": {},
   "outputs": [],
   "source": [
    "//14.¿Cuándo hubo más concentración de terremotos significativos?\n",
    "Bar(\n",
    "    earthquakes.filter($\"Year\">1700).map(_.getAs[Int](1)).collect.toSeq,\n",
    "    earthquakes.filter($\"Year\">1700).map(_.getAs[Int](2)).collect.toSeq\n",
    ").plot()"
   ]
  },
  {
   "cell_type": "code",
   "execution_count": null,
   "metadata": {},
   "outputs": [],
   "source": [
    "//15.¿Cuándo hubo más concentración de erupciones volcánicas?\n",
    "Bar(\n",
    "    volcano.filter($\"Year\">1700).map(_.getAs[Int](1)).collect.toSeq,\n",
    "    volcano.filter($\"Year\">1700).map(_.getAs[Int](2)).collect.toSeq\n",
    ").plot()"
   ]
  },
  {
   "cell_type": "markdown",
   "metadata": {},
   "source": [
    "## Para capitulo 4.2 Rendimiento"
   ]
  },
  {
   "cell_type": "code",
   "execution_count": null,
   "metadata": {},
   "outputs": [],
   "source": [
    "//Para seccion 4.2.1\n",
    "//dataset de prueba\n",
    "val lista = List((1,3,\"hola\"),(2,4,\"tarde\"),\n",
    "        (3,2,\"noche\"),(4,5,\"buenas\"),(5,10,\"mundo\"))\n",
    "val listDS = lista.toDS"
   ]
  },
  {
   "cell_type": "code",
   "execution_count": null,
   "metadata": {},
   "outputs": [],
   "source": [
    "//quedar con los elementos que tenga el \n",
    "// primer componente mayor que 2\n",
    "lista.filter(_._1 > 2)\n",
    "//los que tenga el elemento en la primera columna \n",
    "//mayor que 2\n",
    "listDS.filter($\"_1\" > 2)\n",
    "// quedar con el segundo y tercer componente\n",
    "lista.map{ case(n,f,s) => (f,s)}\n",
    "//Quedar con la segunda y tercera columna\n",
    "listDS.select($\"_2\",$\"_3\").collect"
   ]
  },
  {
   "cell_type": "code",
   "execution_count": null,
   "metadata": {},
   "outputs": [],
   "source": []
  },
  {
   "cell_type": "code",
   "execution_count": null,
   "metadata": {},
   "outputs": [],
   "source": [
    "//Para seccion 4.2.2\n",
    "val temperatureByCity = readCsv(\"GlobalLandTemperaturesByCity\")"
   ]
  },
  {
   "cell_type": "code",
   "execution_count": null,
   "metadata": {},
   "outputs": [],
   "source": [
    "//Guardar en formato parquet \n",
    "temperatureByCity.write.mode(\"overwrite\").parquet(\"data/temperatureByCity.parquet\")"
   ]
  },
  {
   "cell_type": "code",
   "execution_count": null,
   "metadata": {},
   "outputs": [],
   "source": [
    "val ds = readCsv(\"GlobalLandTemperaturesByCity\").select($\"City\")"
   ]
  },
  {
   "cell_type": "code",
   "execution_count": null,
   "metadata": {},
   "outputs": [],
   "source": [
    "ds.explain"
   ]
  },
  {
   "cell_type": "code",
   "execution_count": null,
   "metadata": {},
   "outputs": [],
   "source": [
    "val df: DataFrame = \n",
    "    spark.read.parquet(\"data/temperatureByCity.parquet\").select($\"City\")"
   ]
  },
  {
   "cell_type": "code",
   "execution_count": null,
   "metadata": {},
   "outputs": [],
   "source": [
    "df.explain"
   ]
  },
  {
   "cell_type": "code",
   "execution_count": null,
   "metadata": {},
   "outputs": [],
   "source": []
  },
  {
   "cell_type": "code",
   "execution_count": null,
   "metadata": {},
   "outputs": [],
   "source": []
  },
  {
   "cell_type": "code",
   "execution_count": null,
   "metadata": {},
   "outputs": [],
   "source": [
    "//guardamos en memoria con partition\n",
    "temperatureByCity\n",
    "    .write.mode(\"overwrite\")\n",
    "    .partitionBy(\"Country\")\n",
    "    .parquet(\"data/country.parquet\")"
   ]
  },
  {
   "cell_type": "code",
   "execution_count": null,
   "metadata": {},
   "outputs": [],
   "source": [
    "//guardamos en memoria con repartition previo\n",
    "temperatureByCity\n",
    "    .repartition($\"Country\")\n",
    "    .write.mode(\"overwrite\")\n",
    "    .partitionBy(\"Country\")\n",
    "    .parquet(\"data/countryre.parquet\")"
   ]
  },
  {
   "cell_type": "code",
   "execution_count": null,
   "metadata": {},
   "outputs": [],
   "source": [
    "//filter sin partition\n",
    "val df: DataFrame = \n",
    "    spark.read.parquet(\"data/temperatureByCity.parquet\")\n",
    "            .filter($\"Country\" === \"Denmark\" && $\"AverageTemperature\" >10)"
   ]
  },
  {
   "cell_type": "code",
   "execution_count": null,
   "metadata": {},
   "outputs": [],
   "source": [
    "df.show"
   ]
  },
  {
   "cell_type": "code",
   "execution_count": null,
   "metadata": {},
   "outputs": [],
   "source": [
    "df.explain"
   ]
  },
  {
   "cell_type": "code",
   "execution_count": null,
   "metadata": {},
   "outputs": [],
   "source": [
    "//filter con partition\n",
    "val ds = spark.read.parquet(\"data/country.parquet\")\n",
    "            .filter($\"Country\" === \"Denmark\" && $\"AverageTemperature\" >10)"
   ]
  },
  {
   "cell_type": "code",
   "execution_count": null,
   "metadata": {},
   "outputs": [],
   "source": [
    "ds.show"
   ]
  },
  {
   "cell_type": "code",
   "execution_count": null,
   "metadata": {},
   "outputs": [],
   "source": [
    "ds.explain"
   ]
  },
  {
   "cell_type": "markdown",
   "metadata": {},
   "source": [
    "## Pruebas con Evilplot\n",
    "no funciona"
   ]
  },
  {
   "cell_type": "code",
   "execution_count": null,
   "metadata": {},
   "outputs": [],
   "source": []
  },
  {
   "cell_type": "code",
   "execution_count": null,
   "metadata": {},
   "outputs": [],
   "source": [
    "interp.repositories() ++= Seq(\n",
    "  coursierapi.MavenRepository.of(\"https://dl.bintray.com/cibotech/public\")\n",
    ")\n"
   ]
  },
  {
   "cell_type": "code",
   "execution_count": null,
   "metadata": {},
   "outputs": [],
   "source": [
    "import $ivy.`com.cibo::evilplot-repl:0.7.0`\n",
    "def showPlot(plot: com.cibo.evilplot.geometry.Drawable) =\n",
    "  Image.fromRenderedImage(plot.asBufferedImage, Image.PNG)"
   ]
  },
  {
   "cell_type": "code",
   "execution_count": null,
   "metadata": {},
   "outputs": [],
   "source": [
    "// 1.\t¿Cómo evoluciona el número de desastres naturales según avanza los años?\n",
    "val aux = disasterNumber.filter($\"Entity\" ===\"All natural disasters\").orderBy($\"Year\").select($\"Year\",$\"Number\")\n"
   ]
  },
  {
   "cell_type": "code",
   "execution_count": null,
   "metadata": {},
   "outputs": [],
   "source": [
    "import com.cibo.evilplot.colors.RGB\n",
    "import com.cibo.evilplot.geometry.{Align, Drawable, Extent, Rect, Text}\n",
    "import com.cibo.evilplot.plot._\n",
    "import com.cibo.evilplot.plot.aesthetics.DefaultTheme.{DefaultFonts, DefaultTheme}\n",
    "import com.cibo.evilplot.plot.renderers.BarRenderer\n",
    "\n",
    "\n",
    "\n",
    "BarChart\n",
    "  .custom(aux.map(_.getInt(1)).collect.toSeq.map(Bar.apply)\n",
    "  )\n",
    "   .title(\"Ejemplo\")\n",
    "   .xAxis(aux.map(_.getInt(0)))\n",
    "   .yAxis()\n",
    "   .frame()\n",
    "   .bottomLegend()\n",
    "   .render()"
   ]
  }
 ],
 "metadata": {
  "kernelspec": {
   "display_name": "Scala 2.12",
   "language": "scala",
   "name": "scala212"
  },
  "language_info": {
   "codemirror_mode": "text/x-scala",
   "file_extension": ".scala",
   "mimetype": "text/x-scala",
   "name": "scala",
   "nbconvert_exporter": "script",
   "version": "2.12.10"
  }
 },
 "nbformat": 4,
 "nbformat_minor": 4
}
