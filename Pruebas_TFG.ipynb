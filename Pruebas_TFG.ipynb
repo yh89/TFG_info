{
 "cells": [
  {
   "cell_type": "markdown",
   "metadata": {},
   "source": [
    "# Pruebas con las bases de datos\n"
   ]
  },
  {
   "cell_type": "markdown",
   "metadata": {},
   "source": [
    "\n",
    "## Preamble "
   ]
  },
  {
   "cell_type": "code",
   "execution_count": null,
   "metadata": {},
   "outputs": [],
   "source": [
    "import $file.sparksession\n",
    "import sparksession._\n",
    "import spark.implicits._\n",
    "import org.apache.spark._\n",
    "import org.apache.spark.sql.{functions => func, _}\n",
    "import org.apache.spark.sql.types._, func._"
   ]
  },
  {
   "cell_type": "code",
   "execution_count": null,
   "metadata": {},
   "outputs": [],
   "source": [
    "import $ivy.`org.vegas-viz::vegas:0.3.11`"
   ]
  },
  {
   "cell_type": "code",
   "execution_count": null,
   "metadata": {},
   "outputs": [],
   "source": [
    "val sqlContext = SparkSession.builder().getOrCreate();"
   ]
  },
  {
   "cell_type": "markdown",
   "metadata": {},
   "source": [
    "## DataFrame"
   ]
  },
  {
   "cell_type": "code",
   "execution_count": null,
   "metadata": {},
   "outputs": [],
   "source": [
    "def readCsv(input: String ): DataFrame ={\n",
    "    spark.read.format(\"csv\")\n",
    "  .option(\"inferSchema\", \"true\")\n",
    "  .option(\"header\", \"true\")\n",
    "  .load(\"data/\" + input + \".csv\")\n",
    "}"
   ]
  },
  {
   "cell_type": "code",
   "execution_count": null,
   "metadata": {},
   "outputs": [],
   "source": [
    "val temperatureByCountry : DataFrame = readCsv(\"GlobalLandTemperaturesByCountry\")\n",
    "val disasterNumber : DataFrame = readCsv(\"number-of-natural-disaster-events\").drop($\"Code\")\n",
    "val disasterEconomic: DataFrame = readCsv(\"economic-damage-from-natural-disasters\").drop($\"Code\")"
   ]
  },
  {
   "cell_type": "code",
   "execution_count": null,
   "metadata": {},
   "outputs": [],
   "source": [
    "val deathByCountry : DataFrame = readCsv(\"deaths-natural-disasters-ihme\").drop($\"Code\")\n",
    "                                    .withColumn(\"Deaths\", $\"Deaths\".cast(\"Long\"))\n",
    "val disasterDeath : DataFrame = readCsv(\"number-of-deaths-from-natural-disasters\").drop($\"Code\")\n",
    "val deathPercentByCountry: DataFrame = readCsv(\"share-deaths-from-natural-disasters\").drop($\"Code\")\n",
    "                                .withColumn(\"Deaths(Percent) (%)\",format_number($\"Deaths(Percent) (%)\", 2).cast(\"Double\"))"
   ]
  },
  {
   "cell_type": "code",
   "execution_count": null,
   "metadata": {},
   "outputs": [],
   "source": [
    "val earthquakes : DataFrame = readCsv(\"significant-earthquakes\").drop($\"Code\")\n",
    "val volcano : DataFrame = readCsv(\"significant-volcanic-eruptions\").drop($\"Code\")"
   ]
  },
  {
   "cell_type": "markdown",
   "metadata": {},
   "source": [
    "## Algunas queries "
   ]
  },
  {
   "cell_type": "code",
   "execution_count": null,
   "metadata": {},
   "outputs": [],
   "source": [
    "disasterNumber.select($\"Entity\", $\"Year\", $\"Number\").show"
   ]
  },
  {
   "cell_type": "code",
   "execution_count": null,
   "metadata": {},
   "outputs": [],
   "source": [
    "disasterNumber.filter($\"Entity\" =!=\"All natural disasters\")\n",
    "         .groupBy($\"Year\")\n",
    "         .sum(\"Number\")\n",
    "         .orderBy($\"Year\")\n",
    "         .show\n",
    "\n",
    "disasterNumber.filter($\"Entity\" ===\"All natural disasters\")\n",
    "         .show\n",
    "\n",
    "\n",
    "disasterNumber.filter($\"Entity\" =!=\"All natural disasters\")\n",
    "         .groupBy($\"Year\", $\"Entity\")\n",
    "         .sum(\"Number\")\n",
    "         .orderBy($\"Year\".desc)\n",
    "         .show"
   ]
  },
  {
   "cell_type": "code",
   "execution_count": null,
   "metadata": {},
   "outputs": [],
   "source": [
    "temperatureByCountry.filter($\"AverageTemperature\" > -1000000)\n",
    "            .groupBy($\"dt\")\n",
    "            .avg(\"AverageTemperature\")\n",
    "            .orderBy($\"dt\")\n",
    "            .limit(20)\n",
    "            .show"
   ]
  },
  {
   "cell_type": "code",
   "execution_count": null,
   "metadata": {},
   "outputs": [],
   "source": [
    "import almond.interpreter.api.DisplayData\n",
    "display(DisplayData(disasterNumber.filter($\"Entity\" =!=\"All natural disasters\")\n",
    "         .groupBy(\"Entity\")\n",
    "         .sum(\"Number\")\n",
    "         .orderBy($\"Entity\")))"
   ]
  },
  {
   "cell_type": "markdown",
   "metadata": {},
   "source": [
    "## Queries con explicaciones"
   ]
  },
  {
   "cell_type": "code",
   "execution_count": null,
   "metadata": {},
   "outputs": [],
   "source": [
    "//Relacionar numero de desastres con sus daños economicos\n",
    "\n",
    "val disasterNumberDamage =disasterNumber.join(disasterEconomic, Seq(\"Entity\",\"Year\"))\n",
    "disasterNumberDamage.filter($\"Entity\" =!=\"All natural disasters\").limit(10).show"
   ]
  },
  {
   "cell_type": "code",
   "execution_count": null,
   "metadata": {},
   "outputs": [],
   "source": [
    "//Creo que no funciona porque en ambos casos, en el campo Code es null\n",
    "\n",
    "disasterNumber.join(disasterEconomic, Seq(\"Entity\",\"Code\",\"Year\")).limit(10).show"
   ]
  },
  {
   "cell_type": "code",
   "execution_count": null,
   "metadata": {},
   "outputs": [],
   "source": [
    "// Modificar la columna dt de tipo timestamp (yyyy-MM-dd hh-mm-ss) a solo de años \n",
    "\n",
    "val temperatureByCountryYear:DataFrame = temperatureByCountry.withColumn(\"dt\", date_format(col(\"dt\"), \"yyyy\"))"
   ]
  },
  {
   "cell_type": "code",
   "execution_count": null,
   "metadata": {},
   "outputs": [],
   "source": [
    "// tabla con temperetura media del año por pais \n",
    "//ordenado primero por el año y luego por pais\n",
    "val temperatureAVG = temperatureByCountryYear\n",
    "                    .groupBy($\"dt\",$\"Country\")\n",
    "                    .avg(\"AverageTemperature\")\n",
    "                    .orderBy($\"dt\", $\"Country\")\n",
    "temperatureAVG.limit(10).show"
   ]
  },
  {
   "cell_type": "code",
   "execution_count": null,
   "metadata": {},
   "outputs": [],
   "source": [
    "//Relacionar el numero total de muertos con numero de desastres\n",
    "\n",
    "val disasterNumberDeath =disasterNumber.join(disasterDeath, Seq(\"Entity\",\"Year\"))\n",
    "disasterNumberDeath.limit(10).show\n"
   ]
  },
  {
   "cell_type": "code",
   "execution_count": null,
   "metadata": {},
   "outputs": [],
   "source": [
    "//Relacionar numero de muertos por pais con su porcentage\n",
    "\n",
    "val deathNumberPercent =deathByCountry.join(deathPercentByCountry, Seq(\"Entity\",\"Year\"))\n",
    "deathNumberPercent.filter($\"Year\">2000).filter($\"Entity\" === \"Haiti\").limit(10).show"
   ]
  },
  {
   "cell_type": "markdown",
   "metadata": {},
   "source": [
    "## Some graphics"
   ]
  },
  {
   "cell_type": "code",
   "execution_count": null,
   "metadata": {},
   "outputs": [],
   "source": [
    "import $ivy.`org.plotly-scala::plotly-almond:0.7.2`\n",
    "\n",
    "import plotly._\n",
    "import plotly.element._\n",
    "import plotly.layout._\n",
    "import plotly.Almond._\n"
   ]
  },
  {
   "cell_type": "code",
   "execution_count": null,
   "metadata": {},
   "outputs": [],
   "source": [
    "\n",
    "\n",
    "\n",
    "val consulta= disasterNumber.filter($\"Entity\" =!=\"All natural disasters\")\n",
    "         .groupBy($\"Year\",$\"Entity\")\n",
    "         .sum(\"Number\")\n",
    "         .orderBy($\"Year\")\n",
    "val x=consulta.select($\"Year\").collectAsList.toArray.mkString(\"!!!\").replace(\"[\",\"\").replace(\"]\",\"\").split(\"!!!\").toSeq\n",
    "val y = consulta.select($\"sum(Number)\").collectAsList.toArray.mkString(\"!!!\").replace(\"[\",\"\").replace(\"]\",\"\").split(\"!!!\").toSeq\n",
    "Bar(x,y).plot()"
   ]
  },
  {
   "cell_type": "code",
   "execution_count": null,
   "metadata": {},
   "outputs": [],
   "source": [
    "val trace1 = Scatter(x,y)\n",
    "\n",
    "\n",
    "trace1.plot()"
   ]
  },
  {
   "cell_type": "code",
   "execution_count": null,
   "metadata": {},
   "outputs": [],
   "source": [
    "val consulta= disasterNumber.filter($\"Entity\" =!=\"All natural disasters\")\n",
    "         .groupBy($\"Year\",$\"Entity\")\n",
    "         .sum(\"Number\")\n",
    "         .groupByKey(_.getAs(\"Entity\"))"
   ]
  }
 ],
 "metadata": {
  "kernelspec": {
   "display_name": "Scala 2.12",
   "language": "scala",
   "name": "scala212"
  },
  "language_info": {
   "codemirror_mode": "text/x-scala",
   "file_extension": ".scala",
   "mimetype": "text/x-scala",
   "name": "scala",
   "nbconvert_exporter": "script",
   "version": "2.12.10"
  }
 },
 "nbformat": 4,
 "nbformat_minor": 4
}
