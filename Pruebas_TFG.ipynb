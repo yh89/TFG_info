{
 "cells": [
  {
   "cell_type": "markdown",
   "metadata": {},
   "source": [
    "# Pruebas con las bases de datos\n"
   ]
  },
  {
   "cell_type": "markdown",
   "metadata": {},
   "source": [
    "\n",
    "## Preamble "
   ]
  },
  {
   "cell_type": "code",
   "execution_count": null,
   "metadata": {},
   "outputs": [],
   "source": [
    "import $file.sparksession\n",
    "import sparksession._\n",
    "import spark.implicits._\n",
    "import org.apache.spark._\n",
    "import org.apache.spark.sql.{functions => func, _}\n",
    "import org.apache.spark.sql.types._, func._"
   ]
  },
  {
   "cell_type": "code",
   "execution_count": null,
   "metadata": {},
   "outputs": [],
   "source": [
    "//import $ivy.`org.vegas-viz::vegas:0.3.9`"
   ]
  },
  {
   "cell_type": "code",
   "execution_count": null,
   "metadata": {},
   "outputs": [],
   "source": [
    "//val sqlContext = SparkSession.builder().getOrCreate();"
   ]
  },
  {
   "cell_type": "markdown",
   "metadata": {},
   "source": [
    "# #Example for section 3"
   ]
  },
  {
   "cell_type": "code",
   "execution_count": null,
   "metadata": {},
   "outputs": [],
   "source": [
    "//Para seccion 3.2\n",
    "//dataset de prueba\n",
    "val lista = List((1,3,\"hola\"),(2,4,\"tarde\"),\n",
    "        (3,2,\"noche\"),(4,5,\"buenas\"),(5,10,\"mundo\"))\n",
    "val listDS = lista.toDS"
   ]
  },
  {
   "cell_type": "code",
   "execution_count": null,
   "metadata": {},
   "outputs": [],
   "source": [
    "//quedar con los elementos que tenga el \n",
    "// primer componente mayor que 2\n",
    "lista.filter(_._1 > 2)\n",
    "//los que tenga el elemento en la primera columna \n",
    "//mayor que 2\n",
    "listDS.filter($\"_1\" > 2)\n",
    "// quedar con el segundo y tercer componente\n",
    "lista.map{ case(n,f,s) => (f,s)}\n",
    "//Quedar con la segunda y tercera columna\n",
    "listDS.select($\"_2\",$\"_3\").collect"
   ]
  },
  {
   "cell_type": "code",
   "execution_count": null,
   "metadata": {},
   "outputs": [],
   "source": [
    "//seccion 3.3\n",
    "import $ivy.`org.plotly-scala::plotly-almond:0.7.2`\n",
    "import plotly._\n",
    "import plotly.element._\n",
    "import plotly.layout._\n",
    "import plotly.Almond._\n"
   ]
  },
  {
   "cell_type": "code",
   "execution_count": null,
   "metadata": {},
   "outputs": [],
   "source": [
    "//Grafica de Barras (Bar)\n",
    "//Seleccionamos la primera columna como la X\n",
    "val X = listDS.map(_._1).collect.toSeq\n",
    "\n",
    "//Seleccionamos la primera columna como la Y\n",
    "val Y = listDS.map(_._2).collect.toSeq\n",
    "\n",
    "//Generamos el Bar correspondiente de X,Y\n",
    "Bar(X,Y).plot()\n",
    "\n",
    "//Grafica con dos lineas\n",
    "//seleccionamos la tercera fila como X comun\n",
    "val X1 = listDS.map(_._3).collect.toSeq\n",
    "\n",
    "//Columna 1 como Y1 y columna 2 como Y2\n",
    "val Y1 = listDS.map(_._1).collect.toSeq\n",
    "val Y2 = listDS.map(_._2).collect.toSeq\n",
    "\n",
    "//Creamos las trazas de cada linea\n",
    "val trace1 = Scatter(X1,Y1, name=\"traza 1\")\n",
    "val trace2 = Scatter(X1,Y2, name=\"traza 2\")\n",
    "\n",
    "//Mostramos la grafica\n",
    "val data = Seq(trace1, trace2)\n",
    "data.plot()"
   ]
  },
  {
   "cell_type": "markdown",
   "metadata": {},
   "source": [
    "## DataFrame"
   ]
  },
  {
   "cell_type": "code",
   "execution_count": null,
   "metadata": {},
   "outputs": [],
   "source": [
    "def readCsv(input: String ): DataFrame ={\n",
    "    spark.read.format(\"csv\")\n",
    "  .option(\"inferSchema\", \"true\")\n",
    "  .option(\"header\", \"true\")\n",
    "  .load(\"data/\" + input + \".csv\")\n",
    "}"
   ]
  },
  {
   "cell_type": "code",
   "execution_count": null,
   "metadata": {},
   "outputs": [],
   "source": [
    "val temperatureByCountry : DataFrame = readCsv(\"GlobalLandTemperaturesByCountry\")\n",
    "val disasterNumber = readCsv(\"number-of-natural-disaster-events\").drop($\"Code\")\n",
    "val disasterEconomic: DataFrame = readCsv(\"economic-damage-from-natural-disasters\").drop($\"Code\")\n",
    "val deathByCountry= readCsv(\"deaths-natural-disasters-ihme\").withColumn(\"Deaths\", $\"Deaths\".cast(\"Long\"))"
   ]
  },
  {
   "cell_type": "code",
   "execution_count": null,
   "metadata": {},
   "outputs": [],
   "source": [
    "val disasterDeath : DataFrame = readCsv(\"number-of-deaths-from-natural-disasters\").drop($\"Code\")\n",
    "val deathPercentByCountry: DataFrame = readCsv(\"share-deaths-from-natural-disasters\")\n",
    "                                .withColumn(\"Deaths(Percent) (%)\",format_number($\"Deaths(Percent) (%)\", 2).cast(\"Double\"))\n"
   ]
  },
  {
   "cell_type": "code",
   "execution_count": null,
   "metadata": {},
   "outputs": [],
   "source": [
    "val earthquakes : DataFrame = readCsv(\"significant-earthquakes\").drop($\"Code\")\n",
    "val volcano : DataFrame = readCsv(\"significant-volcanic-eruptions\").drop($\"Code\")"
   ]
  },
  {
   "cell_type": "markdown",
   "metadata": {},
   "source": [
    "## Algunas queries "
   ]
  },
  {
   "cell_type": "code",
   "execution_count": null,
   "metadata": {},
   "outputs": [],
   "source": [
    "disasterNumber.select($\"Entity\", $\"Year\", $\"Number\").show"
   ]
  },
  {
   "cell_type": "code",
   "execution_count": null,
   "metadata": {},
   "outputs": [],
   "source": [
    "disasterNumber.filter($\"Entity\" =!=\"All natural disasters\")\n",
    "         .groupBy($\"Year\")\n",
    "         .sum(\"Number\")\n",
    "         .orderBy($\"Year\")\n",
    "         .show\n",
    "\n",
    "disasterNumber.filter($\"Entity\" ===\"All natural disasters\")\n",
    "         .show\n",
    "\n",
    "\n",
    "disasterNumber.filter($\"Entity\" =!=\"All natural disasters\")\n",
    "         .groupBy($\"Year\", $\"Entity\")\n",
    "         .sum(\"Number\")\n",
    "         .orderBy($\"Year\".desc)\n",
    "         .show"
   ]
  },
  {
   "cell_type": "code",
   "execution_count": null,
   "metadata": {},
   "outputs": [],
   "source": [
    "temperatureByCountry.filter($\"AverageTemperature\" > -1000000)\n",
    "            .groupBy($\"dt\")\n",
    "            .avg(\"AverageTemperature\")\n",
    "            .orderBy($\"dt\")\n",
    "            .limit(20)\n",
    "            .show"
   ]
  },
  {
   "cell_type": "code",
   "execution_count": null,
   "metadata": {},
   "outputs": [],
   "source": [
    "// import almond.interpreter.api.DisplayData\n",
    "// display(DisplayData(disasterNumber.filter($\"Entity\" =!=\"All natural disasters\")\n",
    "//          .groupBy(\"Entity\")\n",
    "//          .sum(\"Number\")\n",
    "//          .orderBy($\"Entity\")))"
   ]
  },
  {
   "cell_type": "code",
   "execution_count": null,
   "metadata": {},
   "outputs": [],
   "source": []
  },
  {
   "cell_type": "markdown",
   "metadata": {},
   "source": [
    "## Queries con explicaciones"
   ]
  },
  {
   "cell_type": "code",
   "execution_count": null,
   "metadata": {},
   "outputs": [],
   "source": [
    "//Relacionar numero de desastres con sus daños economicos\n",
    "\n",
    "val disasterNumberDamage =disasterNumber.join(disasterEconomic, Seq(\"Entity\",\"Year\"))\n",
    "disasterNumberDamage.filter($\"Entity\" =!=\"All natural disasters\").limit(10).show"
   ]
  },
  {
   "cell_type": "code",
   "execution_count": null,
   "metadata": {},
   "outputs": [],
   "source": [
    "//Creo que no funciona porque en ambos casos, en el campo Code es null\n",
    "\n",
    "disasterNumber.join(disasterEconomic, Seq(\"Entity\",\"Code\",\"Year\")).limit(10).show"
   ]
  },
  {
   "cell_type": "code",
   "execution_count": null,
   "metadata": {},
   "outputs": [],
   "source": [
    "// Modificar la columna dt de tipo timestamp (yyyy-MM-dd hh-mm-ss) a solo de años \n",
    "\n",
    "val temperatureByCountryYear:DataFrame = temperatureByCountry.withColumn(\"dt\", date_format(col(\"dt\"), \"yyyy\"))"
   ]
  },
  {
   "cell_type": "code",
   "execution_count": null,
   "metadata": {},
   "outputs": [],
   "source": [
    "// tabla con temperetura media del año por pais \n",
    "//ordenado primero por el año y luego por pais\n",
    "val temperatureAVG = temperatureByCountryYear\n",
    "                    .groupBy($\"dt\",$\"Country\")\n",
    "                    .avg(\"AverageTemperature\")\n",
    "                    .orderBy($\"dt\", $\"Country\")\n",
    "temperatureAVG.limit(10).show"
   ]
  },
  {
   "cell_type": "code",
   "execution_count": null,
   "metadata": {},
   "outputs": [],
   "source": [
    "//Relacionar el numero total de muertos con numero de desastres\n",
    "\n",
    "val disasterNumberDeath =disasterNumber.join(disasterDeath, Seq(\"Entity\",\"Year\"))\n",
    "disasterNumberDeath.limit(10).show\n"
   ]
  },
  {
   "cell_type": "code",
   "execution_count": null,
   "metadata": {},
   "outputs": [],
   "source": [
    "//Relacionar numero de muertos por pais con su porcentage\n",
    "\n",
    "val deathNumberPercent =deathByCountry.join(deathPercentByCountry, Seq(\"Entity\",\"Year\"))\n",
    "deathNumberPercent.filter($\"Year\">2000).filter($\"Entity\" === \"Haiti\").limit(10).show"
   ]
  },
  {
   "cell_type": "markdown",
   "metadata": {},
   "source": [
    "## Solución con Plotly"
   ]
  },
  {
   "cell_type": "code",
   "execution_count": null,
   "metadata": {},
   "outputs": [],
   "source": [
    "import $ivy.`org.plotly-scala::plotly-almond:0.7.2`\n",
    "\n",
    "import plotly._\n",
    "import plotly.element._\n",
    "import plotly.layout._\n",
    "import plotly.Almond._\n"
   ]
  },
  {
   "cell_type": "code",
   "execution_count": null,
   "metadata": {},
   "outputs": [],
   "source": [
    "\n",
    "//purebas\n",
    "\n",
    "// val consulta= disasterNumber.filter($\"Entity\" =!=\"All natural disasters\")\n",
    "//          .groupBy($\"Year\",$\"Entity\")\n",
    "//          .sum(\"Number\")\n",
    "//          .orderBy($\"Year\")\n",
    "// val x=consulta.select($\"Year\").collectAsList.toArray.mkString(\"!!!\").replace(\"[\",\"\").replace(\"]\",\"\").split(\"!!!\").toSeq\n",
    "// val y = consulta.select($\"sum(Number)\").collectAsList.toArray.mkString(\"!!!\").replace(\"[\",\"\").replace(\"]\",\"\").split(\"!!!\").toSeq\n",
    "// Bar(x,y).plot()\n",
    "\n",
    "// val trace1 = Scatter(x,y)\n",
    "\n",
    "\n",
    "// trace1.plot()"
   ]
  },
  {
   "cell_type": "code",
   "execution_count": null,
   "metadata": {},
   "outputs": [],
   "source": []
  },
  {
   "cell_type": "code",
   "execution_count": null,
   "metadata": {},
   "outputs": [],
   "source": [
    "// 1.¿Cómo evoluciona el número de desastres naturales según avanza los años?\n",
    "val aux = disasterNumber.filter($\"Entity\" ===\"All natural disasters\").orderBy($\"Year\").select($\"Year\",$\"Number\")\n",
    "Bar(aux.map(_.getInt(0)).collect.toSeq,aux.map(_.getInt(1)).collect.toSeq).plot()"
   ]
  },
  {
   "cell_type": "code",
   "execution_count": null,
   "metadata": {},
   "outputs": [],
   "source": [
    "// 2.¿Cómo evoluciona el daño económico causado por los desastres naturales?\n",
    "val aux = disasterEconomic.filter($\"Entity\" ===\"All natural disasters\").orderBy($\"Year\").select($\"Year\",$\"Money\")\n",
    "Bar(aux.map(_.getInt(0)).collect.toSeq,aux.map(_.getLong(1)).collect.toSeq).plot()"
   ]
  },
  {
   "cell_type": "code",
   "execution_count": null,
   "metadata": {},
   "outputs": [],
   "source": [
    "//3.¿Existe alguna relación entre el número de desastres naturales con el daño económico?\n",
    "\n",
    "val diasasterNumberEconomic=disasterNumber.join(disasterEconomic, Seq(\"Entity\",\"Year\"))\n",
    "val trace1= Scatter(\n",
    "        diasasterNumberEconomic.map(_.getAs[Int](\"Number\")).collect.toSeq, \n",
    "        diasasterNumberEconomic.map(_.getAs[Long](\"Money\")).collect.toSeq,\n",
    "        mode = ScatterMode(ScatterMode.Markers)\n",
    "        )\n",
    "        .plot()"
   ]
  },
  {
   "cell_type": "code",
   "execution_count": null,
   "metadata": {},
   "outputs": [],
   "source": [
    "// Modificar la columna dt de tipo timestamp (yyyy-MM-dd hh-mm-ss) a solo de años \n",
    "\n",
    "val temperatureByCountryYear:DataFrame = temperatureByCountry.withColumn(\"dt\", date_format(col(\"dt\"), \"yyyy\").cast(\"Int\"))"
   ]
  },
  {
   "cell_type": "code",
   "execution_count": null,
   "metadata": {},
   "outputs": [],
   "source": [
    "// 4.¿Cómo evoluciona la temperatura media anual global?\n",
    "val temperatureAVGTotal = temperatureByCountryYear\n",
    "                    .groupBy($\"dt\")\n",
    "                    .avg(\"AverageTemperature\")\n",
    "                    .orderBy($\"dt\")\n",
    "Scatter(\n",
    "    temperatureAVGTotal.map(_.getInt(0)).collect.toSeq,\n",
    "    temperatureAVGTotal.map(_.getAs[Double](1)).collect.toSeq\n",
    ").plot()"
   ]
  },
  {
   "cell_type": "code",
   "execution_count": null,
   "metadata": {},
   "outputs": [],
   "source": [
    "// 5.¿Cómo evoluciona la temperatura media anual de cada país?\n",
    "val temperatureAVG = temperatureByCountryYear\n",
    "                    .groupBy($\"dt\",$\"Country\")\n",
    "                    .avg(\"AverageTemperature\")\n",
    "                    .orderBy($\"dt\", $\"Country\")\n",
    "                    \n"
   ]
  },
  {
   "cell_type": "code",
   "execution_count": null,
   "metadata": {},
   "outputs": [],
   "source": [
    "//Cojo dos paises como ejemplo\n",
    "val albania =temperatureAVG.filter($\"Country\"===\"Albania\")\n",
    "val trace1 = Bar(\n",
    "  albania.map(_.getAs[Int](\"dt\")).collect.toSeq,\n",
    "  albania.map(_.getAs[Double](\"avg(AverageTemperature)\")).collect.toSeq,\n",
    "  name = \"Albania\"\n",
    ")\n",
    "\n",
    "val andorra =temperatureAVG.filter($\"Country\"===\"Andorra\")\n",
    "val trace2 = Bar(\n",
    "  andorra.map(_.getAs[Int](\"dt\")).collect.toSeq,\n",
    "  andorra.map(_.getAs[Double](\"avg(AverageTemperature)\")).collect.toSeq,\n",
    "  name = \"Andorra\"\n",
    ")\n",
    "\n",
    "\n",
    "val data = Seq(trace1, trace2)\n",
    "\n",
    "data.plot()\n",
    "\n",
    "// val layout = Layout( \n",
    "//   barmode = BarMode.Group\n",
    "// )\n",
    "\n",
    "// Plotly.plot(\"div-id\", data, layout)"
   ]
  },
  {
   "cell_type": "code",
   "execution_count": null,
   "metadata": {},
   "outputs": [],
   "source": [
    "//6.¿Existe alguna relación entre la temperatura media anual global \n",
    "//con el número de desastres naturales?\n",
    "val aux1 = disasterNumber.filter($\"Entity\" ===\"All natural disasters\")\n",
    "\n",
    "val aux = aux1.join(temperatureAVGTotal, aux1(\"Year\")===temperatureAVG(\"dt\"))\n",
    "\n",
    "Scatter(\n",
    "    aux.map(_.getAs[Double](4)).collect.toSeq,\n",
    "    aux.map(_.getAs[Int](2)).collect.toSeq,\n",
    "    mode = ScatterMode(ScatterMode.Markers)\n",
    ").plot()"
   ]
  },
  {
   "cell_type": "code",
   "execution_count": null,
   "metadata": {},
   "outputs": [],
   "source": [
    "//7.¿Cómo evoluciona el número de muertes anual \n",
    "//causados por los desastres naturales?\n",
    "val aux = deathByCountry\n",
    "       .groupBy($\"Year\")\n",
    "       .sum(\"Deaths\")\n",
    "       .orderBy($\"Year\")\n",
    "Bar(\n",
    "    aux.map(_.getAs[String](0)).collect.toSeq,\n",
    "    aux.map(_.getAs[Long](1)).collect.toSeq\n",
    ").plot()"
   ]
  },
  {
   "cell_type": "code",
   "execution_count": null,
   "metadata": {},
   "outputs": [],
   "source": [
    "//8.¿Cómo evoluciona la media del porcentaje de muertes?\n",
    "val aux = deathPercentByCountry\n",
    "       .groupBy($\"Year\")\n",
    "       .avg(\"Deaths(Percent) (%)\")\n",
    "       .orderBy($\"Year\")\n",
    "Bar(\n",
    "    aux.map(_.getAs[String](0)).collect.toSeq,\n",
    "    aux.map(_.getAs[Double](1)).collect.toSeq\n",
    ").plot()"
   ]
  },
  {
   "cell_type": "code",
   "execution_count": null,
   "metadata": {},
   "outputs": [],
   "source": [
    "//9.¿Cuál es el país con más muertes por los desastres naturales?\n",
    "\n",
    "  deathByCountry\n",
    "  .groupBy($\"Entity\")\n",
    "  .sum(\"Deaths\")\n",
    "  .orderBy($\"sum(Deaths)\".desc)\n",
    "  .show"
   ]
  },
  {
   "cell_type": "code",
   "execution_count": null,
   "metadata": {},
   "outputs": [],
   "source": [
    "//10.¿Existe alguna relación entre el número de desastres naturales con el número \n",
    "//total de muertos anuales causados por los desastres naturales?\n",
    "\n",
    "val disasterNumberDeath =disasterNumber.join(disasterDeath, Seq(\"Entity\",\"Year\")).filter($\"Entity\"===\"All natural disasters\")\n",
    "\n",
    "\n",
    "Scatter(\n",
    "        disasterNumberDeath.map(_.getAs[Int](\"Number\")).collect.toSeq, \n",
    "        disasterNumberDeath.map(_.getAs[Int](\"Deaths\")).collect.toSeq,\n",
    "        mode = ScatterMode(ScatterMode.Markers)\n",
    "        )\n",
    "        .plot()"
   ]
  },
  {
   "cell_type": "code",
   "execution_count": null,
   "metadata": {},
   "outputs": [],
   "source": [
    "// 11.¿Cómo evolucionan cada tipo de desastres naturales según avanza el tiempo?\n",
    "\n",
    " val aux = disasterNumber.filter($\"Entity\" =!=\"All natural disasters\")\n",
    "         .groupBy($\"Year\", $\"Entity\")\n",
    "         .sum(\"Number\")\n",
    "         .orderBy($\"Year\")\n",
    "\n",
    "//        val data= aux.groupByKey(_.getAs[String](\"Entity\"))\n",
    "//          .mapGroups((key,value) => Scatter(value.map(_.getAs[Int](\"Year\")).toSeq,\n",
    "//                                           value.map(_.getAs[Int](\"Number\")).toSeq,\n",
    "//                                           name = key))\n",
    "\n",
    "val trace1 = Scatter(\n",
    "  aux.filter($\"Entity\" === \"Flood\").map(_.getInt(0)).collect.toSeq,\n",
    "  aux.filter($\"Entity\" === \"Flood\").map(_.getLong(2)).collect.toSeq,\n",
    "  name=\"Flood\"\n",
    ")\n",
    "\n",
    "\n",
    "val trace2 = Scatter(\n",
    "  aux.filter($\"Entity\" === \"Extreme weather\").map(_.getInt(0)).collect.toSeq,\n",
    "  aux.filter($\"Entity\" === \"Extreme weather\").map(_.getLong(2)).collect.toSeq,\n",
    "  name=\"Extreme weather\"\n",
    ")\n",
    "\n",
    "val data = Seq(trace1, trace2)\n",
    "\n",
    "data.plot()\n",
    "\n"
   ]
  },
  {
   "cell_type": "code",
   "execution_count": null,
   "metadata": {},
   "outputs": [],
   "source": [
    "//12.¿Qué tipo de desastres naturales provoca mayores muertos?\n",
    "disasterNumber.join(disasterDeath, Seq(\"Entity\",\"Year\"))\n",
    "       .groupBy($\"Entity\")\n",
    "       .sum(\"Deaths\")\n",
    "       .filter($\"Entity\" =!= \"All natural disasters\")\n",
    "       .orderBy($\"sum(Deaths)\".desc).show"
   ]
  },
  {
   "cell_type": "code",
   "execution_count": null,
   "metadata": {},
   "outputs": [],
   "source": [
    "//13.¿Qué tipo de desastres naturales provoca mayores daños económicos?\n",
    "disasterEconomic\n",
    "       .groupBy($\"Entity\")\n",
    "       .sum(\"Money\")\n",
    "       .filter($\"Entity\" =!= \"All natural disasters\")\n",
    "       .orderBy($\"sum(Money)\".desc)\n",
    "       .show"
   ]
  },
  {
   "cell_type": "code",
   "execution_count": null,
   "metadata": {},
   "outputs": [],
   "source": [
    "//14.¿Cuándo hubo más concentración de terremotos significativos?\n",
    "Bar(\n",
    "    earthquakes.filter($\"Year\">1700).map(_.getAs[Int](1)).collect.toSeq,\n",
    "    earthquakes.filter($\"Year\">1700).map(_.getAs[Int](2)).collect.toSeq\n",
    ").plot()"
   ]
  },
  {
   "cell_type": "code",
   "execution_count": null,
   "metadata": {},
   "outputs": [],
   "source": [
    "//15.¿Cuándo hubo más concentración de erupciones volcánicas?\n",
    "Bar(\n",
    "    volcano.filter($\"Year\">1700).map(_.getAs[Int](1)).collect.toSeq,\n",
    "    volcano.filter($\"Year\">1700).map(_.getAs[Int](2)).collect.toSeq\n",
    ").plot()"
   ]
  },
  {
   "cell_type": "markdown",
   "metadata": {},
   "source": [
    "# # Pruebas con Evilplot\n",
    "no funciona"
   ]
  },
  {
   "cell_type": "code",
   "execution_count": null,
   "metadata": {},
   "outputs": [],
   "source": [
    "interp.repositories() ++= Seq(\n",
    "  coursierapi.MavenRepository.of(\"https://dl.bintray.com/cibotech/public\")\n",
    ")\n"
   ]
  },
  {
   "cell_type": "code",
   "execution_count": null,
   "metadata": {},
   "outputs": [],
   "source": [
    "import $ivy.`com.cibo::evilplot-repl:0.7.0`\n",
    "def showPlot(plot: com.cibo.evilplot.geometry.Drawable) =\n",
    "  Image.fromRenderedImage(plot.asBufferedImage, Image.PNG)"
   ]
  },
  {
   "cell_type": "code",
   "execution_count": null,
   "metadata": {},
   "outputs": [],
   "source": [
    "// 1.\t¿Cómo evoluciona el número de desastres naturales según avanza los años?\n",
    "val aux = disasterNumber.filter($\"Entity\" ===\"All natural disasters\").orderBy($\"Year\").select($\"Year\",$\"Number\")\n"
   ]
  },
  {
   "cell_type": "code",
   "execution_count": null,
   "metadata": {},
   "outputs": [],
   "source": [
    "import com.cibo.evilplot.colors.RGB\n",
    "import com.cibo.evilplot.geometry.{Align, Drawable, Extent, Rect, Text}\n",
    "import com.cibo.evilplot.plot._\n",
    "import com.cibo.evilplot.plot.aesthetics.DefaultTheme.{DefaultFonts, DefaultTheme}\n",
    "import com.cibo.evilplot.plot.renderers.BarRenderer\n",
    "\n",
    "\n",
    "\n",
    "BarChart\n",
    "  .custom(aux.map(_.getInt(1)).collect.toSeq.map(Bar.apply)\n",
    "  )\n",
    "   .title(\"Ejemplo\")\n",
    "   .xAxis(aux.map(_.getInt(0)))\n",
    "   .yAxis()\n",
    "   .frame()\n",
    "   .bottomLegend()\n",
    "   .render()"
   ]
  }
 ],
 "metadata": {
  "kernelspec": {
   "display_name": "Scala 2.12",
   "language": "scala",
   "name": "scala212"
  },
  "language_info": {
   "codemirror_mode": "text/x-scala",
   "file_extension": ".scala",
   "mimetype": "text/x-scala",
   "name": "scala",
   "nbconvert_exporter": "script",
   "version": "2.12.10"
  }
 },
 "nbformat": 4,
 "nbformat_minor": 4
}
