{
 "cells": [
  {
   "cell_type": "code",
   "execution_count": null,
   "metadata": {},
   "outputs": [],
   "source": [
    "import $file.^.sparksession"
   ]
  },
  {
   "cell_type": "code",
   "execution_count": null,
   "metadata": {},
   "outputs": [],
   "source": [
    "import sparksession._\n",
    "import org.apache.spark._\n",
    "import org.apache.spark.sql.{functions => func, _}\n",
    "import org.apache.spark.sql.types._\n",
    "import scala.util.Try\n",
    "import spark.implicits._"
   ]
  },
  {
   "cell_type": "code",
   "execution_count": null,
   "metadata": {},
   "outputs": [],
   "source": [
    "sealed abstract class PipelineError extends Throwable {\n",
    "  def msg: String\n",
    "}\n",
    "\n",
    "case class ConfigError(msg: String) extends PipelineError\n",
    "case class ReadError(msg: String) extends PipelineError\n",
    "case class ExecutionError(msg: String) extends PipelineError\n",
    "case class TransformationError(msg: String) extends PipelineError"
   ]
  },
  {
   "cell_type": "code",
   "execution_count": null,
   "metadata": {},
   "outputs": [],
   "source": [
    "def goalsPerTeam(input: DataFrame): Either[PipelineError, DataFrame] =\n",
    "    Try{\n",
    "        input.select(\n",
    "            func.explode(\n",
    "              func.array(\n",
    "                func.struct(\n",
    "                  $\"home\".alias(\"team\"),\n",
    "                  $\"homegoals\".alias(\"goals\")\n",
    "                ),\n",
    "                func.struct(\n",
    "                  $\"away\".alias(\"team\"),\n",
    "                  $\"awayGoals\".alias(\"goals\")\n",
    "                )\n",
    "              )\n",
    "            ).alias(\"value\")\n",
    "        )\n",
    "        .selectExpr(\"value.*\")\n",
    "        .groupBy($\"team\")\n",
    "        .agg(func.sum($\"goals\").alias(\"goals\"))\n",
    "    }.toEither.left.map(e => TransformationError(e.getMessage))"
   ]
  },
  {
   "cell_type": "code",
   "execution_count": null,
   "metadata": {},
   "outputs": [],
   "source": [
    "goalsPerTeam(spark.read.parquet(\"data/la-liga.parquet\"))\n",
    "    .foreach(_.show)"
   ]
  },
  {
   "cell_type": "code",
   "execution_count": null,
   "metadata": {},
   "outputs": [],
   "source": []
  }
 ],
 "metadata": {
  "kernelspec": {
   "display_name": "Scala (2.12)",
   "language": "scala",
   "name": "scala212"
  },
  "language_info": {
   "codemirror_mode": "text/x-scala",
   "file_extension": ".scala",
   "mimetype": "text/x-scala",
   "name": "scala",
   "nbconvert_exporter": "script",
   "version": "2.12.9"
  }
 },
 "nbformat": 4,
 "nbformat_minor": 2
}
