{
 "cells": [
  {
   "cell_type": "code",
   "execution_count": null,
   "metadata": {},
   "outputs": [],
   "source": [
    "import org.apache.spark._\n",
    "import org.apache.spark.sql.{functions => func, _}\n",
    "import org.apache.spark.sql.types._\n",
    "\n",
    "spark.read.parquet(\"s3://workflow-example-jmurjc/data/la-liga.parquet\").select(\n",
    "        func.explode(\n",
    "            func.array(\n",
    "                func.struct(\n",
    "                    $\"away\".alias(\"team\"), \n",
    "                    $\"awayGoals\".alias(\"goals\")\n",
    "                ),\n",
    "                func.struct(\n",
    "                    $\"home\".alias(\"team\"), \n",
    "                    $\"homeGoals\".alias(\"goals\")\n",
    "                )\n",
    "            )\n",
    "        ).alias(\"value\")\n",
    "    ).selectExpr(\"value.*\").groupBy($\"team\").agg(func.sum($\"goals\")).collect()"
   ]
  }
 ],
 "metadata": {
  "kernelspec": {
   "display_name": "Scala",
   "language": "scala",
   "name": "scala"
  },
  "language_info": {
   "codemirror_mode": "text/x-scala",
   "file_extension": ".scala",
   "mimetype": "text/x-scala",
   "name": "scala",
   "nbconvert_exporter": "script",
   "version": "2.13.0"
  }
 },
 "nbformat": 4,
 "nbformat_minor": 2
}
